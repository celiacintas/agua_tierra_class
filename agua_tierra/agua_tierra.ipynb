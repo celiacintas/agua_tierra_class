{
 "cells": [
  {
   "cell_type": "code",
   "execution_count": 1,
   "metadata": {
    "collapsed": false
   },
   "outputs": [
    {
     "name": "stderr",
     "output_type": "stream",
     "text": [
      "Using gpu device 0: GeForce GTX 860M (CNMeM is disabled)\n"
     ]
    }
   ],
   "source": [
    "import os\n",
    "import theano\n",
    "import lasagne\n",
    "import numpy as np\n",
    "import pandas as pd\n",
    "import matplotlib.pyplot as plt\n",
    "from sklearn.utils import shuffle\n",
    "from sklearn.cross_validation import train_test_split\n",
    "from lasagne.updates import nesterov_momentum\n",
    "from nolearn.lasagne import BatchIterator\n",
    "from nolearn.lasagne import NeuralNet\n",
    "from lasagne.layers import InputLayer, Conv2DLayer, DropoutLayer,\\\n",
    "    MaxPool2DLayer, DenseLayer\n",
    "from lasagne.nonlinearities import softmax\n",
    "from sklearn.preprocessing import MinMaxScaler, label_binarize"
   ]
  },
  {
   "cell_type": "code",
   "execution_count": 2,
   "metadata": {
    "collapsed": false
   },
   "outputs": [
    {
     "name": "stdout",
     "output_type": "stream",
     "text": [
      "Lasagne==0.2.dev1\r\n",
      "matplotlib==1.5.1\r\n",
      "pandas==0.17.0\r\n",
      "scikit-learn==0.16.1\r\n",
      "Theano==0.7.0\r\n"
     ]
    }
   ],
   "source": [
    "!pip2 freeze | grep \"Theano\\|Lasagne\\|pandas\\|scikit-learn\\|matplotlib\""
   ]
  },
  {
   "cell_type": "markdown",
   "metadata": {},
   "source": [
    "### Open data"
   ]
  },
  {
   "cell_type": "code",
   "execution_count": 3,
   "metadata": {
    "collapsed": false
   },
   "outputs": [],
   "source": [
    "import glob\n",
    "\n",
    "all_files = glob.glob(\"data/*.txt\")\n",
    "frame = pd.DataFrame()\n",
    "list_ = []\n",
    "for file_ in all_files:\n",
    "    df = pd.read_csv(file_,index_col=None, header=4, sep=';')\n",
    "    list_.append(df)\n",
    "frame = pd.concat(list_, axis=0)"
   ]
  },
  {
   "cell_type": "markdown",
   "metadata": {},
   "source": [
    "### Carga de segunda camada de datos"
   ]
  },
  {
   "cell_type": "code",
   "execution_count": 38,
   "metadata": {
    "collapsed": false
   },
   "outputs": [
    {
     "data": {
      "text/html": [
       "<div>\n",
       "<table border=\"1\" class=\"dataframe\">\n",
       "  <thead>\n",
       "    <tr style=\"text-align: right;\">\n",
       "      <th></th>\n",
       "      <th>banda 1</th>\n",
       "      <th>banda 2</th>\n",
       "      <th>banda 3</th>\n",
       "      <th>banda 4</th>\n",
       "      <th>banda 5</th>\n",
       "      <th>banda 7</th>\n",
       "      <th>agua/noagua ==&gt; 1/0</th>\n",
       "    </tr>\n",
       "  </thead>\n",
       "  <tbody>\n",
       "    <tr>\n",
       "      <th>0</th>\n",
       "      <td>0.216</td>\n",
       "      <td>0.471</td>\n",
       "      <td>0.357</td>\n",
       "      <td>0.957</td>\n",
       "      <td>0.576</td>\n",
       "      <td>0.365</td>\n",
       "      <td>0</td>\n",
       "    </tr>\n",
       "    <tr>\n",
       "      <th>1</th>\n",
       "      <td>0.216</td>\n",
       "      <td>0.471</td>\n",
       "      <td>0.286</td>\n",
       "      <td>0.949</td>\n",
       "      <td>0.565</td>\n",
       "      <td>0.345</td>\n",
       "      <td>0</td>\n",
       "    </tr>\n",
       "    <tr>\n",
       "      <th>2</th>\n",
       "      <td>0.235</td>\n",
       "      <td>0.439</td>\n",
       "      <td>0.286</td>\n",
       "      <td>0.984</td>\n",
       "      <td>0.545</td>\n",
       "      <td>0.306</td>\n",
       "      <td>0</td>\n",
       "    </tr>\n",
       "    <tr>\n",
       "      <th>3</th>\n",
       "      <td>0.216</td>\n",
       "      <td>0.439</td>\n",
       "      <td>0.286</td>\n",
       "      <td>1.000</td>\n",
       "      <td>0.545</td>\n",
       "      <td>0.306</td>\n",
       "      <td>0</td>\n",
       "    </tr>\n",
       "    <tr>\n",
       "      <th>4</th>\n",
       "      <td>0.196</td>\n",
       "      <td>0.439</td>\n",
       "      <td>0.286</td>\n",
       "      <td>1.000</td>\n",
       "      <td>0.553</td>\n",
       "      <td>0.286</td>\n",
       "      <td>0</td>\n",
       "    </tr>\n",
       "    <tr>\n",
       "      <th>5</th>\n",
       "      <td>0.196</td>\n",
       "      <td>0.439</td>\n",
       "      <td>0.286</td>\n",
       "      <td>1.000</td>\n",
       "      <td>0.565</td>\n",
       "      <td>0.325</td>\n",
       "      <td>0</td>\n",
       "    </tr>\n",
       "    <tr>\n",
       "      <th>6</th>\n",
       "      <td>0.196</td>\n",
       "      <td>0.439</td>\n",
       "      <td>0.286</td>\n",
       "      <td>1.000</td>\n",
       "      <td>0.553</td>\n",
       "      <td>0.345</td>\n",
       "      <td>0</td>\n",
       "    </tr>\n",
       "    <tr>\n",
       "      <th>7</th>\n",
       "      <td>0.196</td>\n",
       "      <td>0.439</td>\n",
       "      <td>0.286</td>\n",
       "      <td>1.000</td>\n",
       "      <td>0.553</td>\n",
       "      <td>0.306</td>\n",
       "      <td>0</td>\n",
       "    </tr>\n",
       "    <tr>\n",
       "      <th>8</th>\n",
       "      <td>0.216</td>\n",
       "      <td>0.439</td>\n",
       "      <td>0.267</td>\n",
       "      <td>1.000</td>\n",
       "      <td>0.565</td>\n",
       "      <td>0.325</td>\n",
       "      <td>0</td>\n",
       "    </tr>\n",
       "    <tr>\n",
       "      <th>9</th>\n",
       "      <td>0.196</td>\n",
       "      <td>0.439</td>\n",
       "      <td>0.243</td>\n",
       "      <td>1.000</td>\n",
       "      <td>0.565</td>\n",
       "      <td>0.325</td>\n",
       "      <td>0</td>\n",
       "    </tr>\n",
       "    <tr>\n",
       "      <th>10</th>\n",
       "      <td>0.196</td>\n",
       "      <td>0.439</td>\n",
       "      <td>0.243</td>\n",
       "      <td>1.000</td>\n",
       "      <td>0.565</td>\n",
       "      <td>0.325</td>\n",
       "      <td>0</td>\n",
       "    </tr>\n",
       "    <tr>\n",
       "      <th>11</th>\n",
       "      <td>0.196</td>\n",
       "      <td>0.412</td>\n",
       "      <td>0.267</td>\n",
       "      <td>1.000</td>\n",
       "      <td>0.545</td>\n",
       "      <td>0.325</td>\n",
       "      <td>0</td>\n",
       "    </tr>\n",
       "    <tr>\n",
       "      <th>12</th>\n",
       "      <td>0.216</td>\n",
       "      <td>0.412</td>\n",
       "      <td>0.286</td>\n",
       "      <td>1.000</td>\n",
       "      <td>0.553</td>\n",
       "      <td>0.345</td>\n",
       "      <td>0</td>\n",
       "    </tr>\n",
       "    <tr>\n",
       "      <th>13</th>\n",
       "      <td>0.314</td>\n",
       "      <td>0.588</td>\n",
       "      <td>0.490</td>\n",
       "      <td>0.831</td>\n",
       "      <td>0.655</td>\n",
       "      <td>0.463</td>\n",
       "      <td>0</td>\n",
       "    </tr>\n",
       "    <tr>\n",
       "      <th>14</th>\n",
       "      <td>0.333</td>\n",
       "      <td>0.588</td>\n",
       "      <td>0.557</td>\n",
       "      <td>0.749</td>\n",
       "      <td>0.663</td>\n",
       "      <td>0.482</td>\n",
       "      <td>0</td>\n",
       "    </tr>\n",
       "    <tr>\n",
       "      <th>15</th>\n",
       "      <td>0.216</td>\n",
       "      <td>0.471</td>\n",
       "      <td>0.357</td>\n",
       "      <td>0.741</td>\n",
       "      <td>0.596</td>\n",
       "      <td>0.424</td>\n",
       "      <td>0</td>\n",
       "    </tr>\n",
       "    <tr>\n",
       "      <th>16</th>\n",
       "      <td>0.196</td>\n",
       "      <td>0.471</td>\n",
       "      <td>0.357</td>\n",
       "      <td>0.702</td>\n",
       "      <td>0.565</td>\n",
       "      <td>0.424</td>\n",
       "      <td>0</td>\n",
       "    </tr>\n",
       "    <tr>\n",
       "      <th>17</th>\n",
       "      <td>0.196</td>\n",
       "      <td>0.471</td>\n",
       "      <td>0.376</td>\n",
       "      <td>0.686</td>\n",
       "      <td>0.596</td>\n",
       "      <td>0.404</td>\n",
       "      <td>0</td>\n",
       "    </tr>\n",
       "    <tr>\n",
       "      <th>18</th>\n",
       "      <td>0.235</td>\n",
       "      <td>0.498</td>\n",
       "      <td>0.400</td>\n",
       "      <td>0.722</td>\n",
       "      <td>0.604</td>\n",
       "      <td>0.424</td>\n",
       "      <td>0</td>\n",
       "    </tr>\n",
       "    <tr>\n",
       "      <th>19</th>\n",
       "      <td>0.235</td>\n",
       "      <td>0.498</td>\n",
       "      <td>0.400</td>\n",
       "      <td>0.769</td>\n",
       "      <td>0.616</td>\n",
       "      <td>0.404</td>\n",
       "      <td>0</td>\n",
       "    </tr>\n",
       "    <tr>\n",
       "      <th>20</th>\n",
       "      <td>0.216</td>\n",
       "      <td>0.498</td>\n",
       "      <td>0.400</td>\n",
       "      <td>0.757</td>\n",
       "      <td>0.604</td>\n",
       "      <td>0.404</td>\n",
       "      <td>0</td>\n",
       "    </tr>\n",
       "    <tr>\n",
       "      <th>21</th>\n",
       "      <td>0.176</td>\n",
       "      <td>0.471</td>\n",
       "      <td>0.400</td>\n",
       "      <td>0.749</td>\n",
       "      <td>0.624</td>\n",
       "      <td>0.404</td>\n",
       "      <td>0</td>\n",
       "    </tr>\n",
       "    <tr>\n",
       "      <th>22</th>\n",
       "      <td>0.255</td>\n",
       "      <td>0.498</td>\n",
       "      <td>0.424</td>\n",
       "      <td>0.757</td>\n",
       "      <td>0.635</td>\n",
       "      <td>0.404</td>\n",
       "      <td>0</td>\n",
       "    </tr>\n",
       "    <tr>\n",
       "      <th>23</th>\n",
       "      <td>0.255</td>\n",
       "      <td>0.498</td>\n",
       "      <td>0.400</td>\n",
       "      <td>0.784</td>\n",
       "      <td>0.635</td>\n",
       "      <td>0.424</td>\n",
       "      <td>0</td>\n",
       "    </tr>\n",
       "    <tr>\n",
       "      <th>24</th>\n",
       "      <td>0.294</td>\n",
       "      <td>0.439</td>\n",
       "      <td>0.357</td>\n",
       "      <td>0.804</td>\n",
       "      <td>0.616</td>\n",
       "      <td>0.384</td>\n",
       "      <td>0</td>\n",
       "    </tr>\n",
       "    <tr>\n",
       "      <th>25</th>\n",
       "      <td>0.235</td>\n",
       "      <td>0.471</td>\n",
       "      <td>0.357</td>\n",
       "      <td>0.812</td>\n",
       "      <td>0.604</td>\n",
       "      <td>0.384</td>\n",
       "      <td>0</td>\n",
       "    </tr>\n",
       "    <tr>\n",
       "      <th>26</th>\n",
       "      <td>0.235</td>\n",
       "      <td>0.498</td>\n",
       "      <td>0.357</td>\n",
       "      <td>0.831</td>\n",
       "      <td>0.616</td>\n",
       "      <td>0.404</td>\n",
       "      <td>0</td>\n",
       "    </tr>\n",
       "    <tr>\n",
       "      <th>27</th>\n",
       "      <td>0.196</td>\n",
       "      <td>0.498</td>\n",
       "      <td>0.376</td>\n",
       "      <td>0.839</td>\n",
       "      <td>0.624</td>\n",
       "      <td>0.404</td>\n",
       "      <td>0</td>\n",
       "    </tr>\n",
       "    <tr>\n",
       "      <th>28</th>\n",
       "      <td>0.235</td>\n",
       "      <td>0.498</td>\n",
       "      <td>0.376</td>\n",
       "      <td>0.831</td>\n",
       "      <td>0.635</td>\n",
       "      <td>0.404</td>\n",
       "      <td>0</td>\n",
       "    </tr>\n",
       "    <tr>\n",
       "      <th>29</th>\n",
       "      <td>0.255</td>\n",
       "      <td>0.498</td>\n",
       "      <td>0.400</td>\n",
       "      <td>0.792</td>\n",
       "      <td>0.643</td>\n",
       "      <td>0.404</td>\n",
       "      <td>0</td>\n",
       "    </tr>\n",
       "    <tr>\n",
       "      <th>...</th>\n",
       "      <td>...</td>\n",
       "      <td>...</td>\n",
       "      <td>...</td>\n",
       "      <td>...</td>\n",
       "      <td>...</td>\n",
       "      <td>...</td>\n",
       "      <td>...</td>\n",
       "    </tr>\n",
       "    <tr>\n",
       "      <th>705932</th>\n",
       "      <td>0.333</td>\n",
       "      <td>0.498</td>\n",
       "      <td>0.557</td>\n",
       "      <td>0.702</td>\n",
       "      <td>0.804</td>\n",
       "      <td>0.616</td>\n",
       "      <td>0</td>\n",
       "    </tr>\n",
       "    <tr>\n",
       "      <th>705933</th>\n",
       "      <td>0.314</td>\n",
       "      <td>0.529</td>\n",
       "      <td>0.557</td>\n",
       "      <td>0.596</td>\n",
       "      <td>0.812</td>\n",
       "      <td>0.675</td>\n",
       "      <td>0</td>\n",
       "    </tr>\n",
       "    <tr>\n",
       "      <th>705934</th>\n",
       "      <td>0.314</td>\n",
       "      <td>0.498</td>\n",
       "      <td>0.576</td>\n",
       "      <td>0.631</td>\n",
       "      <td>0.843</td>\n",
       "      <td>0.714</td>\n",
       "      <td>0</td>\n",
       "    </tr>\n",
       "    <tr>\n",
       "      <th>705935</th>\n",
       "      <td>0.314</td>\n",
       "      <td>0.471</td>\n",
       "      <td>0.533</td>\n",
       "      <td>0.651</td>\n",
       "      <td>0.773</td>\n",
       "      <td>0.576</td>\n",
       "      <td>0</td>\n",
       "    </tr>\n",
       "    <tr>\n",
       "      <th>705936</th>\n",
       "      <td>0.314</td>\n",
       "      <td>0.471</td>\n",
       "      <td>0.510</td>\n",
       "      <td>0.675</td>\n",
       "      <td>0.792</td>\n",
       "      <td>0.557</td>\n",
       "      <td>0</td>\n",
       "    </tr>\n",
       "    <tr>\n",
       "      <th>705937</th>\n",
       "      <td>0.294</td>\n",
       "      <td>0.471</td>\n",
       "      <td>0.490</td>\n",
       "      <td>0.639</td>\n",
       "      <td>0.792</td>\n",
       "      <td>0.596</td>\n",
       "      <td>0</td>\n",
       "    </tr>\n",
       "    <tr>\n",
       "      <th>705938</th>\n",
       "      <td>0.294</td>\n",
       "      <td>0.498</td>\n",
       "      <td>0.533</td>\n",
       "      <td>0.659</td>\n",
       "      <td>0.843</td>\n",
       "      <td>0.635</td>\n",
       "      <td>0</td>\n",
       "    </tr>\n",
       "    <tr>\n",
       "      <th>705939</th>\n",
       "      <td>0.275</td>\n",
       "      <td>0.439</td>\n",
       "      <td>0.533</td>\n",
       "      <td>0.694</td>\n",
       "      <td>0.792</td>\n",
       "      <td>0.557</td>\n",
       "      <td>0</td>\n",
       "    </tr>\n",
       "    <tr>\n",
       "      <th>705940</th>\n",
       "      <td>0.275</td>\n",
       "      <td>0.471</td>\n",
       "      <td>0.490</td>\n",
       "      <td>0.651</td>\n",
       "      <td>0.784</td>\n",
       "      <td>0.596</td>\n",
       "      <td>0</td>\n",
       "    </tr>\n",
       "    <tr>\n",
       "      <th>705941</th>\n",
       "      <td>0.314</td>\n",
       "      <td>0.471</td>\n",
       "      <td>0.490</td>\n",
       "      <td>0.675</td>\n",
       "      <td>0.784</td>\n",
       "      <td>0.596</td>\n",
       "      <td>0</td>\n",
       "    </tr>\n",
       "    <tr>\n",
       "      <th>705942</th>\n",
       "      <td>0.314</td>\n",
       "      <td>0.439</td>\n",
       "      <td>0.443</td>\n",
       "      <td>0.596</td>\n",
       "      <td>0.733</td>\n",
       "      <td>0.557</td>\n",
       "      <td>0</td>\n",
       "    </tr>\n",
       "    <tr>\n",
       "      <th>705943</th>\n",
       "      <td>0.686</td>\n",
       "      <td>0.706</td>\n",
       "      <td>0.333</td>\n",
       "      <td>1.000</td>\n",
       "      <td>0.000</td>\n",
       "      <td>1.000</td>\n",
       "      <td>0</td>\n",
       "    </tr>\n",
       "    <tr>\n",
       "      <th>705944</th>\n",
       "      <td>0.627</td>\n",
       "      <td>0.882</td>\n",
       "      <td>1.000</td>\n",
       "      <td>1.000</td>\n",
       "      <td>0.000</td>\n",
       "      <td>1.000</td>\n",
       "      <td>0</td>\n",
       "    </tr>\n",
       "    <tr>\n",
       "      <th>705945</th>\n",
       "      <td>0.667</td>\n",
       "      <td>0.647</td>\n",
       "      <td>0.243</td>\n",
       "      <td>1.000</td>\n",
       "      <td>0.000</td>\n",
       "      <td>1.000</td>\n",
       "      <td>0</td>\n",
       "    </tr>\n",
       "    <tr>\n",
       "      <th>705946</th>\n",
       "      <td>0.784</td>\n",
       "      <td>0.620</td>\n",
       "      <td>0.267</td>\n",
       "      <td>1.000</td>\n",
       "      <td>0.000</td>\n",
       "      <td>1.000</td>\n",
       "      <td>0</td>\n",
       "    </tr>\n",
       "    <tr>\n",
       "      <th>705947</th>\n",
       "      <td>0.588</td>\n",
       "      <td>0.561</td>\n",
       "      <td>0.267</td>\n",
       "      <td>1.000</td>\n",
       "      <td>0.000</td>\n",
       "      <td>1.000</td>\n",
       "      <td>0</td>\n",
       "    </tr>\n",
       "    <tr>\n",
       "      <th>705948</th>\n",
       "      <td>0.647</td>\n",
       "      <td>1.000</td>\n",
       "      <td>0.980</td>\n",
       "      <td>1.000</td>\n",
       "      <td>0.000</td>\n",
       "      <td>1.000</td>\n",
       "      <td>0</td>\n",
       "    </tr>\n",
       "    <tr>\n",
       "      <th>705949</th>\n",
       "      <td>0.608</td>\n",
       "      <td>0.529</td>\n",
       "      <td>0.243</td>\n",
       "      <td>1.000</td>\n",
       "      <td>0.000</td>\n",
       "      <td>1.000</td>\n",
       "      <td>0</td>\n",
       "    </tr>\n",
       "    <tr>\n",
       "      <th>705950</th>\n",
       "      <td>0.647</td>\n",
       "      <td>0.588</td>\n",
       "      <td>0.133</td>\n",
       "      <td>1.000</td>\n",
       "      <td>0.000</td>\n",
       "      <td>1.000</td>\n",
       "      <td>0</td>\n",
       "    </tr>\n",
       "    <tr>\n",
       "      <th>705951</th>\n",
       "      <td>0.745</td>\n",
       "      <td>1.000</td>\n",
       "      <td>0.200</td>\n",
       "      <td>1.000</td>\n",
       "      <td>0.000</td>\n",
       "      <td>1.000</td>\n",
       "      <td>0</td>\n",
       "    </tr>\n",
       "    <tr>\n",
       "      <th>705952</th>\n",
       "      <td>0.451</td>\n",
       "      <td>0.765</td>\n",
       "      <td>0.133</td>\n",
       "      <td>1.000</td>\n",
       "      <td>0.000</td>\n",
       "      <td>1.000</td>\n",
       "      <td>0</td>\n",
       "    </tr>\n",
       "    <tr>\n",
       "      <th>705953</th>\n",
       "      <td>0.196</td>\n",
       "      <td>0.145</td>\n",
       "      <td>0.086</td>\n",
       "      <td>1.000</td>\n",
       "      <td>0.000</td>\n",
       "      <td>1.000</td>\n",
       "      <td>0</td>\n",
       "    </tr>\n",
       "    <tr>\n",
       "      <th>705954</th>\n",
       "      <td>0.412</td>\n",
       "      <td>0.000</td>\n",
       "      <td>0.110</td>\n",
       "      <td>1.000</td>\n",
       "      <td>0.000</td>\n",
       "      <td>1.000</td>\n",
       "      <td>0</td>\n",
       "    </tr>\n",
       "    <tr>\n",
       "      <th>705955</th>\n",
       "      <td>0.412</td>\n",
       "      <td>0.322</td>\n",
       "      <td>0.110</td>\n",
       "      <td>1.000</td>\n",
       "      <td>0.000</td>\n",
       "      <td>1.000</td>\n",
       "      <td>0</td>\n",
       "    </tr>\n",
       "    <tr>\n",
       "      <th>705956</th>\n",
       "      <td>0.353</td>\n",
       "      <td>0.294</td>\n",
       "      <td>0.110</td>\n",
       "      <td>1.000</td>\n",
       "      <td>0.000</td>\n",
       "      <td>1.000</td>\n",
       "      <td>0</td>\n",
       "    </tr>\n",
       "    <tr>\n",
       "      <th>705957</th>\n",
       "      <td>0.255</td>\n",
       "      <td>0.204</td>\n",
       "      <td>0.153</td>\n",
       "      <td>1.000</td>\n",
       "      <td>0.000</td>\n",
       "      <td>1.000</td>\n",
       "      <td>0</td>\n",
       "    </tr>\n",
       "    <tr>\n",
       "      <th>705958</th>\n",
       "      <td>0.961</td>\n",
       "      <td>0.176</td>\n",
       "      <td>0.086</td>\n",
       "      <td>1.000</td>\n",
       "      <td>0.000</td>\n",
       "      <td>1.000</td>\n",
       "      <td>0</td>\n",
       "    </tr>\n",
       "    <tr>\n",
       "      <th>705959</th>\n",
       "      <td>0.333</td>\n",
       "      <td>0.145</td>\n",
       "      <td>0.153</td>\n",
       "      <td>1.000</td>\n",
       "      <td>0.000</td>\n",
       "      <td>1.000</td>\n",
       "      <td>0</td>\n",
       "    </tr>\n",
       "    <tr>\n",
       "      <th>705960</th>\n",
       "      <td>0.294</td>\n",
       "      <td>0.145</td>\n",
       "      <td>1.000</td>\n",
       "      <td>1.000</td>\n",
       "      <td>0.000</td>\n",
       "      <td>1.000</td>\n",
       "      <td>0</td>\n",
       "    </tr>\n",
       "    <tr>\n",
       "      <th>705961</th>\n",
       "      <td>0.098</td>\n",
       "      <td>0.118</td>\n",
       "      <td>0.067</td>\n",
       "      <td>1.000</td>\n",
       "      <td>0.000</td>\n",
       "      <td>1.000</td>\n",
       "      <td>0</td>\n",
       "    </tr>\n",
       "  </tbody>\n",
       "</table>\n",
       "<p>705962 rows × 7 columns</p>\n",
       "</div>"
      ],
      "text/plain": [
       "        banda 1  banda 2  banda 3  banda 4  banda 5  banda 7  \\\n",
       "0         0.216    0.471    0.357    0.957    0.576    0.365   \n",
       "1         0.216    0.471    0.286    0.949    0.565    0.345   \n",
       "2         0.235    0.439    0.286    0.984    0.545    0.306   \n",
       "3         0.216    0.439    0.286    1.000    0.545    0.306   \n",
       "4         0.196    0.439    0.286    1.000    0.553    0.286   \n",
       "5         0.196    0.439    0.286    1.000    0.565    0.325   \n",
       "6         0.196    0.439    0.286    1.000    0.553    0.345   \n",
       "7         0.196    0.439    0.286    1.000    0.553    0.306   \n",
       "8         0.216    0.439    0.267    1.000    0.565    0.325   \n",
       "9         0.196    0.439    0.243    1.000    0.565    0.325   \n",
       "10        0.196    0.439    0.243    1.000    0.565    0.325   \n",
       "11        0.196    0.412    0.267    1.000    0.545    0.325   \n",
       "12        0.216    0.412    0.286    1.000    0.553    0.345   \n",
       "13        0.314    0.588    0.490    0.831    0.655    0.463   \n",
       "14        0.333    0.588    0.557    0.749    0.663    0.482   \n",
       "15        0.216    0.471    0.357    0.741    0.596    0.424   \n",
       "16        0.196    0.471    0.357    0.702    0.565    0.424   \n",
       "17        0.196    0.471    0.376    0.686    0.596    0.404   \n",
       "18        0.235    0.498    0.400    0.722    0.604    0.424   \n",
       "19        0.235    0.498    0.400    0.769    0.616    0.404   \n",
       "20        0.216    0.498    0.400    0.757    0.604    0.404   \n",
       "21        0.176    0.471    0.400    0.749    0.624    0.404   \n",
       "22        0.255    0.498    0.424    0.757    0.635    0.404   \n",
       "23        0.255    0.498    0.400    0.784    0.635    0.424   \n",
       "24        0.294    0.439    0.357    0.804    0.616    0.384   \n",
       "25        0.235    0.471    0.357    0.812    0.604    0.384   \n",
       "26        0.235    0.498    0.357    0.831    0.616    0.404   \n",
       "27        0.196    0.498    0.376    0.839    0.624    0.404   \n",
       "28        0.235    0.498    0.376    0.831    0.635    0.404   \n",
       "29        0.255    0.498    0.400    0.792    0.643    0.404   \n",
       "...         ...      ...      ...      ...      ...      ...   \n",
       "705932    0.333    0.498    0.557    0.702    0.804    0.616   \n",
       "705933    0.314    0.529    0.557    0.596    0.812    0.675   \n",
       "705934    0.314    0.498    0.576    0.631    0.843    0.714   \n",
       "705935    0.314    0.471    0.533    0.651    0.773    0.576   \n",
       "705936    0.314    0.471    0.510    0.675    0.792    0.557   \n",
       "705937    0.294    0.471    0.490    0.639    0.792    0.596   \n",
       "705938    0.294    0.498    0.533    0.659    0.843    0.635   \n",
       "705939    0.275    0.439    0.533    0.694    0.792    0.557   \n",
       "705940    0.275    0.471    0.490    0.651    0.784    0.596   \n",
       "705941    0.314    0.471    0.490    0.675    0.784    0.596   \n",
       "705942    0.314    0.439    0.443    0.596    0.733    0.557   \n",
       "705943    0.686    0.706    0.333    1.000    0.000    1.000   \n",
       "705944    0.627    0.882    1.000    1.000    0.000    1.000   \n",
       "705945    0.667    0.647    0.243    1.000    0.000    1.000   \n",
       "705946    0.784    0.620    0.267    1.000    0.000    1.000   \n",
       "705947    0.588    0.561    0.267    1.000    0.000    1.000   \n",
       "705948    0.647    1.000    0.980    1.000    0.000    1.000   \n",
       "705949    0.608    0.529    0.243    1.000    0.000    1.000   \n",
       "705950    0.647    0.588    0.133    1.000    0.000    1.000   \n",
       "705951    0.745    1.000    0.200    1.000    0.000    1.000   \n",
       "705952    0.451    0.765    0.133    1.000    0.000    1.000   \n",
       "705953    0.196    0.145    0.086    1.000    0.000    1.000   \n",
       "705954    0.412    0.000    0.110    1.000    0.000    1.000   \n",
       "705955    0.412    0.322    0.110    1.000    0.000    1.000   \n",
       "705956    0.353    0.294    0.110    1.000    0.000    1.000   \n",
       "705957    0.255    0.204    0.153    1.000    0.000    1.000   \n",
       "705958    0.961    0.176    0.086    1.000    0.000    1.000   \n",
       "705959    0.333    0.145    0.153    1.000    0.000    1.000   \n",
       "705960    0.294    0.145    1.000    1.000    0.000    1.000   \n",
       "705961    0.098    0.118    0.067    1.000    0.000    1.000   \n",
       "\n",
       "        agua/noagua ==> 1/0  \n",
       "0                         0  \n",
       "1                         0  \n",
       "2                         0  \n",
       "3                         0  \n",
       "4                         0  \n",
       "5                         0  \n",
       "6                         0  \n",
       "7                         0  \n",
       "8                         0  \n",
       "9                         0  \n",
       "10                        0  \n",
       "11                        0  \n",
       "12                        0  \n",
       "13                        0  \n",
       "14                        0  \n",
       "15                        0  \n",
       "16                        0  \n",
       "17                        0  \n",
       "18                        0  \n",
       "19                        0  \n",
       "20                        0  \n",
       "21                        0  \n",
       "22                        0  \n",
       "23                        0  \n",
       "24                        0  \n",
       "25                        0  \n",
       "26                        0  \n",
       "27                        0  \n",
       "28                        0  \n",
       "29                        0  \n",
       "...                     ...  \n",
       "705932                    0  \n",
       "705933                    0  \n",
       "705934                    0  \n",
       "705935                    0  \n",
       "705936                    0  \n",
       "705937                    0  \n",
       "705938                    0  \n",
       "705939                    0  \n",
       "705940                    0  \n",
       "705941                    0  \n",
       "705942                    0  \n",
       "705943                    0  \n",
       "705944                    0  \n",
       "705945                    0  \n",
       "705946                    0  \n",
       "705947                    0  \n",
       "705948                    0  \n",
       "705949                    0  \n",
       "705950                    0  \n",
       "705951                    0  \n",
       "705952                    0  \n",
       "705953                    0  \n",
       "705954                    0  \n",
       "705955                    0  \n",
       "705956                    0  \n",
       "705957                    0  \n",
       "705958                    0  \n",
       "705959                    0  \n",
       "705960                    0  \n",
       "705961                    0  \n",
       "\n",
       "[705962 rows x 7 columns]"
      ]
     },
     "execution_count": 38,
     "metadata": {},
     "output_type": "execute_result"
    }
   ],
   "source": [
    "df_test = pd.read_csv(\"data/bdatos/1997_11_09/no agua 1 1997 11 09.txt\", decimal=',',sep=';', usecols=to_use)\n",
    "new_df = df_test[l]\n",
    "new_df"
   ]
  },
  {
   "cell_type": "code",
   "execution_count": 39,
   "metadata": {
    "collapsed": false
   },
   "outputs": [],
   "source": [
    "X = new_df[new_df.columns[:-1]].values\n",
    "X = X.astype(np.float32)\n",
    "y = new_df[new_df.columns[-1]].values\n",
    "y = y.astype(np.int32)\n",
    "\n",
    "\n",
    "X_scaler = MinMaxScaler()\n",
    "X = X_scaler.fit_transform(X)"
   ]
  },
  {
   "cell_type": "code",
   "execution_count": 8,
   "metadata": {
    "collapsed": false
   },
   "outputs": [
    {
     "data": {
      "text/plain": [
       "(Index([u'banda 1', u'banda 2', u'banda 3', u'banda 4', u'banda 5', u'banda 7'], dtype='object'),\n",
       " 'salida')"
      ]
     },
     "execution_count": 8,
     "metadata": {},
     "output_type": "execute_result"
    }
   ],
   "source": [
    "frame.columns[:-1], frame.columns[-1]"
   ]
  },
  {
   "cell_type": "code",
   "execution_count": 9,
   "metadata": {
    "collapsed": false
   },
   "outputs": [],
   "source": [
    "X = frame[frame.columns[:-1]].values\n",
    "X = X.astype(np.float32)\n",
    "y = frame[frame.columns[-1]].values\n",
    "y = y.astype(np.int32)\n",
    "\n",
    "\n",
    "X_scaler = MinMaxScaler()\n",
    "X = X_scaler.fit_transform(X)"
   ]
  },
  {
   "cell_type": "code",
   "execution_count": 10,
   "metadata": {
    "collapsed": false
   },
   "outputs": [
    {
     "name": "stdout",
     "output_type": "stream",
     "text": [
      "X_train.shape -> (2099993, 6), X_test.shape -> (899998, 6) \n",
      "y_train.shape -> (2099993,), y_test.shape -> (899998,) \n",
      "0.0 1.0\n",
      "0 1\n"
     ]
    }
   ],
   "source": [
    "X_train, X_test, y_train, y_test = train_test_split(X, y,\n",
    "                                                    test_size=0.3,\n",
    "                                                    random_state=42)\n",
    "\n",
    "print \"X_train.shape -> {}, X_test.shape -> {} \".format(X_train.shape,\n",
    "                                                        X_test.shape)\n",
    "print \"y_train.shape -> {}, y_test.shape -> {} \".format(y_train.shape,\n",
    "                                                        y_test.shape)\n",
    "print X.min(), X.max()\n",
    "print y.min(), y.max()"
   ]
  },
  {
   "cell_type": "markdown",
   "metadata": {},
   "source": [
    "### Network structure"
   ]
  },
  {
   "cell_type": "markdown",
   "metadata": {},
   "source": [
    "#### Setup all the layers and parameters"
   ]
  },
  {
   "cell_type": "code",
   "execution_count": 11,
   "metadata": {
    "collapsed": true
   },
   "outputs": [],
   "source": [
    "layers_0 = [\n",
    "                (InputLayer, {'shape': (None, 6)}),\n",
    "                (DenseLayer, {'num_units': 100}),\n",
    "                (DropoutLayer, {}),\n",
    "                (DenseLayer, {'num_units': 100}),\n",
    "                (DenseLayer, {'num_units': 2, 'nonlinearity': softmax}),\n",
    "        ]"
   ]
  },
  {
   "cell_type": "code",
   "execution_count": 12,
   "metadata": {
    "collapsed": false
   },
   "outputs": [],
   "source": [
    "class AdjustVariable(object):\n",
    "    \"\"\"\n",
    "    Used to decreases linearly the learning rate with the number of epochs,\n",
    "    while we the momentum increase.\n",
    "    \"\"\"\n",
    "    def __init__(self, name, start=0.03, stop=0.001):\n",
    "        self.name = name\n",
    "        self.start, self.stop = start, stop\n",
    "        self.ls = None\n",
    "\n",
    "    def __call__(self, nn, train_history):\n",
    "        if self.ls is None:\n",
    "            self.ls = np.linspace(self.start, self.stop, nn.max_epochs)\n",
    "\n",
    "        epoch = train_history[-1]['epoch']\n",
    "        new_value = np.float32(self.ls[epoch - 1])\n",
    "        getattr(nn, self.name).set_value(new_value)\n",
    "\n",
    "# This class is taken from https://github.com/dnouri/kfkd-tutorial/blob/master/kfkd.py"
   ]
  },
  {
   "cell_type": "code",
   "execution_count": 13,
   "metadata": {
    "collapsed": false
   },
   "outputs": [],
   "source": [
    "def create_network(npochs=50, batch_s=10000):\n",
    "    return NeuralNet(\n",
    "        layers=layers_0,\n",
    "        update=nesterov_momentum,\n",
    "        update_learning_rate=theano.shared(np.float32(0.01)),\n",
    "        update_momentum=theano.shared(np.float32(0.9)),\n",
    "\n",
    "        regression=False,\n",
    "        batch_iterator_train=BatchIterator(batch_size=batch_s),\n",
    "        on_epoch_finished=[\n",
    "            AdjustVariable('update_learning_rate', start=0.01, stop=0.001),\n",
    "            AdjustVariable('update_momentum', start=0.9, stop=0.9999)\n",
    "        ],\n",
    "        max_epochs=npochs,\n",
    "        verbose=1)\n",
    "net0 = create_network()"
   ]
  },
  {
   "cell_type": "code",
   "execution_count": 14,
   "metadata": {
    "collapsed": false,
    "scrolled": true
   },
   "outputs": [
    {
     "name": "stdout",
     "output_type": "stream",
     "text": [
      "# Neural Network with 11002 learnable parameters\n",
      "\n",
      "## Layer information\n",
      "\n",
      "  #  name        size\n",
      "---  --------  ------\n",
      "  0  input0         6\n",
      "  1  dense1       100\n",
      "  2  dropout2     100\n",
      "  3  dense3       100\n",
      "  4  dense4         2\n",
      "\n",
      "  epoch    train loss    valid loss    train/val    valid acc  dur\n",
      "-------  ------------  ------------  -----------  -----------  -----\n",
      "      1       \u001b[36m0.11589\u001b[0m       \u001b[32m0.01898\u001b[0m      6.10448      0.99512  2.87s\n",
      "      2       \u001b[36m0.02048\u001b[0m       \u001b[32m0.01015\u001b[0m      2.01755      0.99671  2.84s\n",
      "      3       \u001b[36m0.01303\u001b[0m       \u001b[32m0.00737\u001b[0m      1.76690      0.99725  2.75s\n",
      "      4       \u001b[36m0.01008\u001b[0m       \u001b[32m0.00610\u001b[0m      1.65277      0.99755  2.76s\n",
      "      5       \u001b[36m0.00854\u001b[0m       \u001b[32m0.00537\u001b[0m      1.58914      0.99776  2.76s\n",
      "      6       \u001b[36m0.00761\u001b[0m       \u001b[32m0.00495\u001b[0m      1.53637      0.99792  2.79s\n",
      "      7       \u001b[36m0.00692\u001b[0m       \u001b[32m0.00467\u001b[0m      1.48215      0.99805  2.75s\n",
      "      8       \u001b[36m0.00646\u001b[0m       \u001b[32m0.00449\u001b[0m      1.44012      0.99809  2.75s\n",
      "      9       \u001b[36m0.00617\u001b[0m       \u001b[32m0.00436\u001b[0m      1.41601      0.99816  2.90s\n",
      "     10       \u001b[36m0.00590\u001b[0m       \u001b[32m0.00425\u001b[0m      1.38823      0.99821  2.96s\n",
      "     11       \u001b[36m0.00570\u001b[0m       \u001b[32m0.00417\u001b[0m      1.36846      0.99827  2.88s\n",
      "     12       \u001b[36m0.00549\u001b[0m       \u001b[32m0.00410\u001b[0m      1.33759      0.99831  2.82s\n",
      "     13       \u001b[36m0.00534\u001b[0m       \u001b[32m0.00405\u001b[0m      1.31816      0.99835  2.90s\n",
      "     14       \u001b[36m0.00521\u001b[0m       \u001b[32m0.00400\u001b[0m      1.30262      0.99840  2.91s\n",
      "     15       \u001b[36m0.00516\u001b[0m       \u001b[32m0.00396\u001b[0m      1.30215      0.99841  2.96s\n",
      "     16       \u001b[36m0.00501\u001b[0m       \u001b[32m0.00392\u001b[0m      1.27966      0.99843  2.88s\n",
      "     17       \u001b[36m0.00497\u001b[0m       \u001b[32m0.00388\u001b[0m      1.28178      0.99845  2.93s\n",
      "     18       \u001b[36m0.00488\u001b[0m       \u001b[32m0.00383\u001b[0m      1.27322      0.99846  2.84s\n",
      "     19       \u001b[36m0.00477\u001b[0m       \u001b[32m0.00379\u001b[0m      1.25668      0.99848  2.87s\n",
      "     20       \u001b[36m0.00475\u001b[0m       \u001b[32m0.00375\u001b[0m      1.26509      0.99850  2.98s\n",
      "     21       \u001b[36m0.00458\u001b[0m       \u001b[32m0.00373\u001b[0m      1.23024      0.99849  2.81s\n",
      "     22       \u001b[36m0.00454\u001b[0m       \u001b[32m0.00369\u001b[0m      1.23131      0.99853  2.77s\n",
      "     23       \u001b[36m0.00452\u001b[0m       \u001b[32m0.00365\u001b[0m      1.23996      0.99856  2.77s\n",
      "     24       \u001b[36m0.00447\u001b[0m       \u001b[32m0.00362\u001b[0m      1.23565      0.99857  2.76s\n",
      "     25       \u001b[36m0.00437\u001b[0m       \u001b[32m0.00358\u001b[0m      1.22123      0.99859  2.76s\n",
      "     26       \u001b[36m0.00433\u001b[0m       \u001b[32m0.00356\u001b[0m      1.21650      0.99858  2.77s\n",
      "     27       \u001b[36m0.00431\u001b[0m       \u001b[32m0.00353\u001b[0m      1.22151      0.99860  2.75s\n",
      "     28       \u001b[36m0.00423\u001b[0m       \u001b[32m0.00350\u001b[0m      1.20844      0.99862  2.77s\n",
      "     29       \u001b[36m0.00420\u001b[0m       \u001b[32m0.00347\u001b[0m      1.20963      0.99863  2.78s\n",
      "     30       \u001b[36m0.00416\u001b[0m       \u001b[32m0.00344\u001b[0m      1.20829      0.99863  2.81s\n",
      "     31       \u001b[36m0.00414\u001b[0m       \u001b[32m0.00342\u001b[0m      1.21036      0.99865  2.77s\n",
      "     32       \u001b[36m0.00412\u001b[0m       \u001b[32m0.00340\u001b[0m      1.21217      0.99865  2.76s\n",
      "     33       \u001b[36m0.00406\u001b[0m       \u001b[32m0.00338\u001b[0m      1.20249      0.99866  2.75s\n",
      "     34       \u001b[36m0.00403\u001b[0m       \u001b[32m0.00336\u001b[0m      1.19979      0.99866  2.75s\n",
      "     35       \u001b[36m0.00399\u001b[0m       \u001b[32m0.00334\u001b[0m      1.19218      0.99865  2.75s\n",
      "     36       \u001b[36m0.00397\u001b[0m       \u001b[32m0.00332\u001b[0m      1.19517      0.99867  2.75s\n",
      "     37       \u001b[36m0.00391\u001b[0m       \u001b[32m0.00330\u001b[0m      1.18478      0.99867  2.75s\n",
      "     38       \u001b[36m0.00385\u001b[0m       \u001b[32m0.00329\u001b[0m      1.17062      0.99868  2.77s\n",
      "     39       \u001b[36m0.00385\u001b[0m       \u001b[32m0.00326\u001b[0m      1.17879      0.99869  2.75s\n",
      "     40       \u001b[36m0.00380\u001b[0m       \u001b[32m0.00325\u001b[0m      1.17176      0.99869  2.78s\n",
      "     41       \u001b[36m0.00380\u001b[0m       \u001b[32m0.00322\u001b[0m      1.17824      0.99870  2.77s\n",
      "     42       \u001b[36m0.00377\u001b[0m       \u001b[32m0.00320\u001b[0m      1.17607      0.99871  2.77s\n",
      "     43       \u001b[36m0.00373\u001b[0m       \u001b[32m0.00319\u001b[0m      1.16954      0.99870  2.78s\n",
      "     44       \u001b[36m0.00370\u001b[0m       \u001b[32m0.00317\u001b[0m      1.16732      0.99871  2.78s\n",
      "     45       \u001b[36m0.00364\u001b[0m       \u001b[32m0.00315\u001b[0m      1.15411      0.99870  2.83s\n",
      "     46       0.00366       \u001b[32m0.00313\u001b[0m      1.17247      0.99871  2.81s\n",
      "     47       \u001b[36m0.00359\u001b[0m       \u001b[32m0.00310\u001b[0m      1.15735      0.99872  2.79s\n",
      "     48       \u001b[36m0.00354\u001b[0m       \u001b[32m0.00308\u001b[0m      1.14922      0.99872  2.78s\n",
      "     49       \u001b[36m0.00352\u001b[0m       \u001b[32m0.00306\u001b[0m      1.15075      0.99872  2.77s\n",
      "     50       \u001b[36m0.00350\u001b[0m       \u001b[32m0.00303\u001b[0m      1.15586      0.99876  2.76s\n"
     ]
    },
    {
     "data": {
      "text/plain": [
       "NeuralNet(X_tensor_type=None,\n",
       "     batch_iterator_test=<nolearn.lasagne.base.BatchIterator object at 0x7efea1e8d690>,\n",
       "     batch_iterator_train=<nolearn.lasagne.base.BatchIterator object at 0x7efe9f0534d0>,\n",
       "     custom_score=None,\n",
       "     layers=[(<class 'lasagne.layers.input.InputLayer'>, {'shape': (None, 6)}), (<class 'lasagne.layers.dense.DenseLayer'>, {'num_units': 100}), (<class 'lasagne.layers.noise.DropoutLayer'>, {}), (<class 'lasagne.layers.dense.DenseLayer'>, {'num_units': 100}), (<class 'lasagne.layers.dense.DenseLayer'>, {'num_units': 2, 'nonlinearity': <function softmax at 0x7efeb5280d70>})],\n",
       "     loss=None, max_epochs=50, more_params={},\n",
       "     objective=<function objective at 0x7efea1e94f50>,\n",
       "     objective_loss_function=<function categorical_crossentropy at 0x7efeb4e48c80>,\n",
       "     on_epoch_finished=[<__main__.AdjustVariable object at 0x7efe9f053c10>, <__main__.AdjustVariable object at 0x7efe9f053c50>, <nolearn.lasagne.handlers.PrintLog instance at 0x7efea1e611b8>],\n",
       "     on_training_finished=[],\n",
       "     on_training_started=[<nolearn.lasagne.handlers.PrintLayerInfo instance at 0x7efea1e61d40>],\n",
       "     regression=False,\n",
       "     train_split=<nolearn.lasagne.base.TrainSplit object at 0x7efea1e8d6d0>,\n",
       "     update=<function nesterov_momentum at 0x7efeb4e4f5f0>,\n",
       "     update_learning_rate=<TensorType(float32, scalar)>,\n",
       "     update_momentum=<TensorType(float32, scalar)>,\n",
       "     use_label_encoder=False, verbose=1,\n",
       "     y_tensor_type=TensorType(int32, vector))"
      ]
     },
     "execution_count": 14,
     "metadata": {},
     "output_type": "execute_result"
    }
   ],
   "source": [
    "net0.fit(X_train, y_train)"
   ]
  },
  {
   "cell_type": "code",
   "execution_count": 15,
   "metadata": {
    "collapsed": false
   },
   "outputs": [],
   "source": [
    "import cPickle as pickle\n",
    "\n",
    "with open('data/aguatierra_simpleNN.pickle', 'wb') as f:\n",
    "        pickle.dump(net0, f, -1)"
   ]
  },
  {
   "cell_type": "markdown",
   "metadata": {},
   "source": [
    "### Testing of already trained networks"
   ]
  },
  {
   "cell_type": "markdown",
   "metadata": {},
   "source": [
    "#### Load the best three networks"
   ]
  },
  {
   "cell_type": "code",
   "execution_count": 16,
   "metadata": {
    "collapsed": false
   },
   "outputs": [],
   "source": [
    "import cPickle as pickle\n",
    "\n",
    "net0 = None\n",
    "\n",
    "fnames_nets = ['data/aguatierra_simpleNN.pickle']\n",
    "nets = [net0]\n",
    "for n, fnames in enumerate(fnames_nets):\n",
    "    with open(fnames, 'rb') as f:\n",
    "        nets[n] = pickle.load(f)"
   ]
  },
  {
   "cell_type": "markdown",
   "metadata": {},
   "source": [
    "#### Check structure of the best network *net0*"
   ]
  },
  {
   "cell_type": "code",
   "execution_count": 17,
   "metadata": {
    "collapsed": false
   },
   "outputs": [
    {
     "name": "stdout",
     "output_type": "stream",
     "text": [
      "# Neural Network with 11002 learnable parameters\n",
      "\n",
      "## Layer information\n",
      "\n",
      "  #  name        size\n",
      "---  --------  ------\n",
      "  0  input0         6\n",
      "  1  dense1       100\n",
      "  2  dropout2     100\n",
      "  3  dense3       100\n",
      "  4  dense4         2\n",
      "\n"
     ]
    }
   ],
   "source": [
    "from nolearn.lasagne import PrintLayerInfo\n",
    "layer_info = PrintLayerInfo()\n",
    "\n",
    "nets[0].verbose = 3\n",
    "nets[0].initialize()\n",
    "layer_info(nets[0])\n"
   ]
  },
  {
   "cell_type": "markdown",
   "metadata": {},
   "source": [
    "#### Loss plot of the three networks (valid and train)"
   ]
  },
  {
   "cell_type": "code",
   "execution_count": 31,
   "metadata": {
    "collapsed": false,
    "scrolled": true
   },
   "outputs": [
    {
     "data": {
      "text/plain": [
       "<matplotlib.figure.Figure at 0x7efe81791e50>"
      ]
     },
     "metadata": {},
     "output_type": "display_data"
    },
    {
     "data": {
      "image/png": "[encoded data removed]",
      "text/plain": [
       "<matplotlib.figure.Figure at 0x7efe81791e90>"
      ]
     },
     "metadata": {},
     "output_type": "display_data"
    }
   ],
   "source": [
    "%matplotlib inline\n",
    "\n",
    "plt.clf()\n",
    "plt.figure(figsize=(15,5))\n",
    "for net, net_name, color in zip(nets, ['Arch0'], ['m']):\n",
    "    train_loss = np.array([i[\"train_loss\"] for i in net.train_history_])\n",
    "    valid_loss = np.array([i[\"valid_loss\"] for i in net.train_history_])\n",
    "    plt.plot(train_loss, '--{}'.format(color), linewidth=2, label=\"{} train\".format(net_name))\n",
    "    plt.plot(valid_loss, '-{}'.format(color), linewidth=2, label=\"{} valid\".format(net_name))\n",
    "\n",
    "plt.grid()\n",
    "plt.legend()\n",
    "plt.xlabel(\"epoch\")\n",
    "plt.ylabel(\"loss\")\n",
    "plt.yscale(\"log\")\n",
    "plt.show()"
   ]
  },
  {
   "cell_type": "markdown",
   "metadata": {},
   "source": [
    "#### Calculate several metrics from sklearn"
   ]
  },
  {
   "cell_type": "code",
   "execution_count": 20,
   "metadata": {
    "collapsed": false
   },
   "outputs": [
    {
     "name": "stdout",
     "output_type": "stream",
     "text": [
      "             precision    recall  f1-score   support\n",
      "\n",
      "          0       1.00      1.00      1.00   2665464\n",
      "          1       0.99      1.00      0.99    334527\n",
      "\n",
      "avg / total       1.00      1.00      1.00   2999991\n",
      "\n",
      "[Train dataset] Score: 0.99876\n",
      "[Test dataset] Score: 0.99874\n"
     ]
    }
   ],
   "source": [
    "from sklearn.metrics import classification_report\n",
    "from sklearn.metrics import confusion_matrix, roc_curve, auc\n",
    "\n",
    "for net in nets:\n",
    "    y_pred = net.predict(X)\n",
    "    print classification_report(y, y_pred)\n",
    "    print \"[Train dataset] Score: %.5f\" % net.score(X_train, y_train)\n",
    "    print \"[Test dataset] Score: %.5f\" % net.score(X_test, y_test)"
   ]
  },
  {
   "cell_type": "code",
   "execution_count": 21,
   "metadata": {
    "collapsed": true
   },
   "outputs": [],
   "source": [
    "def plot_matrix(clf, X_test, y_test, filename):\n",
    "    \"\"\"Plot Confussion Matrix from a given classifier\"\"\"\n",
    "    plt.clf()\n",
    "    plt.imshow(confusion_matrix(y_test, clf.predict(X_test)),\n",
    "               interpolation='nearest', cmap=plt.cm.Blues)\n",
    "    plt.colorbar()\n",
    "    plt.ylabel(\"True label\")\n",
    "    plt.xlabel(\"Predicted label\")\n",
    "    #save_plot('confusion_matrix_'+str(filename)+'.png')"
   ]
  },
  {
   "cell_type": "code",
   "execution_count": 23,
   "metadata": {
    "collapsed": false
   },
   "outputs": [
    {
     "data": {
      "image/png": "[encoded data removed]",
      "text/plain": [
       "<matplotlib.figure.Figure at 0x7efe81a32510>"
      ]
     },
     "metadata": {},
     "output_type": "display_data"
    }
   ],
   "source": [
    "plot_matrix(nets[0], X_test, y_test, 'lero')"
   ]
  },
  {
   "cell_type": "code",
   "execution_count": 25,
   "metadata": {
    "collapsed": false
   },
   "outputs": [
    {
     "data": {
      "text/plain": [
       "array([[799058,    742],\n",
       "       [   390,  99808]])"
      ]
     },
     "execution_count": 25,
     "metadata": {},
     "output_type": "execute_result"
    }
   ],
   "source": [
    "confusion_matrix(y_test, nets[0].predict(X_test))"
   ]
  },
  {
   "cell_type": "code",
   "execution_count": 26,
   "metadata": {
    "collapsed": true
   },
   "outputs": [],
   "source": [
    "from scipy import interp\n",
    "\n",
    "def plot_roc_curve(n_classes, y_test, y_score, filename=None):\n",
    "    fpr = dict()\n",
    "    tpr = dict()\n",
    "    roc_auc = dict()\n",
    "    for i in range(n_classes):\n",
    "        fpr[i], tpr[i], _ = roc_curve(y_test[:, i], y_score.ravel())\n",
    "        roc_auc[i] = auc(fpr[i], tpr[i])\n",
    "    plt.clf()\n",
    "\n",
    "    fpr[\"micro\"], tpr[\"micro\"], _ = roc_curve(y_test.ravel(), y_score.ravel())\n",
    "    roc_auc[\"micro\"] = auc(fpr[\"micro\"], tpr[\"micro\"])\n",
    "\n",
    "    plt.figure()\n",
    "    label = 0\n",
    "    plt.plot(fpr[label], tpr[label], label='ROC curve of class %d (area = %0.2f)' % (label, roc_auc[label]))\n",
    "    plt.fill_between(fpr[label], tpr[label], alpha='0.2')\n",
    "    plt.plot([0, 1], [0, 1], 'k--')\n",
    "    plt.xlim([0.0, 1.0])\n",
    "    plt.ylim([0.0, 1.05])\n",
    "    plt.xlabel('False Positive Rate')\n",
    "    plt.ylabel('True Positive Rate')\n",
    "    plt.title('Receiver operating characteristic example')\n",
    "    plt.legend(loc=\"lower right\")\n",
    "\n",
    "    #plt.clf()\n",
    "    all_fpr = np.unique(np.concatenate([fpr[i] for i in range(n_classes)]))\n",
    "    mean_tpr = np.zeros_like(all_fpr)\n",
    "    for i in range(n_classes):\n",
    "        mean_tpr += interp(all_fpr, fpr[i], tpr[i])\n",
    "    mean_tpr /= n_classes\n",
    "    fpr[\"macro\"] = all_fpr\n",
    "    tpr[\"macro\"] = mean_tpr\n",
    "    roc_auc[\"macro\"] = auc(fpr[\"macro\"], tpr[\"macro\"])\n",
    "\n",
    "    plt.figure()\n",
    "    plt.plot(fpr[\"micro\"], tpr[\"micro\"],\n",
    "             label='micro-average ROC curve (area = {0:0.2f})'\n",
    "                   ''.format(roc_auc[\"micro\"]),\n",
    "             linewidth=2)\n",
    "\n",
    "    for i in range(n_classes):\n",
    "        plt.plot(fpr[i], tpr[i], \n",
    "                label='ROC curve of class {0} (area = {1:0.5f})'\n",
    "                ''.format(i, roc_auc[i]))\n",
    "\n",
    "    plt.plot([0, 1], [0, 1], 'k--')\n",
    "    plt.xlim([0.0, 1.0])\n",
    "    plt.ylim([0.0, 1.05])\n",
    "    plt.xlabel('False Positive Rate')\n",
    "    plt.ylabel('True Positive Rate')\n",
    "    plt.title('Only the curve')\n",
    "    plt.legend(loc=\"lower right\")"
   ]
  },
  {
   "cell_type": "code",
   "execution_count": 27,
   "metadata": {
    "collapsed": false
   },
   "outputs": [
    {
     "name": "stdout",
     "output_type": "stream",
     "text": [
      "1\n"
     ]
    },
    {
     "data": {
      "text/plain": [
       "<matplotlib.figure.Figure at 0x7efe81a18750>"
      ]
     },
     "metadata": {},
     "output_type": "display_data"
    },
    {
     "data": {
      "image/png": "[encoded data removed]",
      "text/plain": [
       "<matplotlib.figure.Figure at 0x7efe817632d0>"
      ]
     },
     "metadata": {},
     "output_type": "display_data"
    },
    {
     "data": {
      "image/png": "[encoded data removed]",
      "text/plain": [
       "<matplotlib.figure.Figure at 0x7efe81709810>"
      ]
     },
     "metadata": {},
     "output_type": "display_data"
    }
   ],
   "source": [
    "y_score = nets[0].predict_proba(X)[:, 1]\n",
    "y_test_bin = np.array(label_binarize(y, classes=np.unique(y)))\n",
    "n_classes = y_test_bin.shape[1]\n",
    "print n_classes\n",
    "plot_roc_curve(n_classes, y_test_bin, y_score, filename='lero')"
   ]
  },
  {
   "cell_type": "code",
   "execution_count": 28,
   "metadata": {
    "collapsed": false
   },
   "outputs": [
    {
     "data": {
      "text/plain": [
       "array([[-0.15360342,  0.19812286,  0.205869  ],\n",
       "       [-0.15545019,  0.18924918,  0.12667079],\n",
       "       [ 0.08558318,  0.23610364,  0.11428927],\n",
       "       ..., \n",
       "       [-0.49603698,  0.00925441, -0.01638679],\n",
       "       [-0.39281322,  0.04536371, -0.01268467],\n",
       "       [-0.40629182,  0.05966967, -0.00508608]])"
      ]
     },
     "execution_count": 28,
     "metadata": {},
     "output_type": "execute_result"
    }
   ],
   "source": [
    "from sklearn.decomposition import RandomizedPCA # using randomized Singular Value Decomposition \n",
    "Xp = RandomizedPCA(n_components=3, random_state=1).fit_transform(X)\n",
    "Xp"
   ]
  },
  {
   "cell_type": "code",
   "execution_count": 29,
   "metadata": {
    "collapsed": false
   },
   "outputs": [
    {
     "data": {
      "text/plain": [
       "<matplotlib.text.Text at 0x7efe85637250>"
      ]
     },
     "execution_count": 29,
     "metadata": {},
     "output_type": "execute_result"
    },
    {
     "data": {
      "image/png": "[encoded data removed]",
      "text/plain": [
       "<matplotlib.figure.Figure at 0x7efe857cd710>"
      ]
     },
     "metadata": {},
     "output_type": "display_data"
    }
   ],
   "source": [
    "% matplotlib inline\n",
    "import matplotlib.pyplot as plt\n",
    "\n",
    "# get the product class \n",
    "product_class = np.unique(y)\n",
    "\n",
    "colors = plt.get_cmap(\"hsv\")\n",
    "\n",
    "plt.figure(figsize=(10, 4))\n",
    "for i, p in enumerate(product_class):\n",
    "    mask = (y == p)\n",
    "    plt.scatter(Xp[mask, 0], Xp[mask, 1], \n",
    "                c=colors(1. * i / 11), label=p, alpha=0.2)\n",
    "    \n",
    "plt.legend(loc=\"best\")\n",
    "plt.xlabel('PC 1')\n",
    "plt.ylabel('PC 2')\n"
   ]
  }
 ],
 "metadata": {
  "kernelspec": {
   "display_name": "Python 2",
   "language": "python2",
   "name": "python2"
  },
  "language_info": {
   "codemirror_mode": {
    "name": "ipython",
    "version": 2
   },
   "file_extension": ".py",
   "mimetype": "text/x-python",
   "name": "python",
   "nbconvert_exporter": "python",
   "pygments_lexer": "ipython2",
   "version": "2.7.11"
  }
 },
 "nbformat": 4,
 "nbformat_minor": 0
}

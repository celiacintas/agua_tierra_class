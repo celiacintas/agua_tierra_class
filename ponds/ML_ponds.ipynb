{
 "cells": [
  {
   "cell_type": "code",
   "execution_count": 2,
   "metadata": {
    "collapsed": false,
    "deletable": true,
    "editable": true
   },
   "outputs": [],
   "source": [
    "import pandas as pd\n",
    "import numpy as np\n",
    "from sklearn.ensemble import ExtraTreesClassifier\n",
    "from sklearn.cross_validation import train_test_split\n",
    "from sklearn.metrics import classification_report\n",
    "from sklearn.preprocessing import MinMaxScaler\n",
    "from utils import plot_matrix"
   ]
  },
  {
   "cell_type": "markdown",
   "metadata": {
    "deletable": true,
    "editable": true
   },
   "source": [
    "#### Load data from previous ipynb (preprocessing_dataset_ponds)"
   ]
  },
  {
   "cell_type": "code",
   "execution_count": 3,
   "metadata": {
    "collapsed": false,
    "deletable": true,
    "editable": true
   },
   "outputs": [],
   "source": [
    "df = pd.read_pickle('data/postprocdata3x3_2k.csv')"
   ]
  },
  {
   "cell_type": "code",
   "execution_count": 4,
   "metadata": {
    "collapsed": false,
    "deletable": true,
    "editable": true
   },
   "outputs": [],
   "source": [
    "X = pd.DataFrame(df['matrix'].tolist()).values\n",
    "X = X.astype(np.float32)\n",
    "y = df['target'].values\n",
    "y = y.astype(np.int32)\n",
    "\n",
    "# X_scaler = MinMaxScaler()\n",
    "# X = X_scaler.fit_transform(X)"
   ]
  },
  {
   "cell_type": "code",
   "execution_count": 5,
   "metadata": {
    "collapsed": false,
    "deletable": true,
    "editable": true
   },
   "outputs": [
    {
     "name": "stdout",
     "output_type": "stream",
     "text": [
      "(1500, 27) (500, 27)\n",
      "(1500,) (500,)\n"
     ]
    },
    {
     "data": {
      "text/plain": [
       "(array([[203., 201., 244., ..., 200., 201., 247.],\n",
       "        [ 99.,  57.,  55., ..., 129.,  76.,  84.],\n",
       "        [217., 185., 154., ..., 209., 173., 133.],\n",
       "        ...,\n",
       "        [159., 127., 101., ..., 176., 149., 145.],\n",
       "        [195., 152., 162., ..., 178., 140., 148.],\n",
       "        [165., 131.,  81., ..., 176., 137., 110.]], dtype=float32),\n",
       " array([3, 1, 2, ..., 2, 3, 2], dtype=int32))"
      ]
     },
     "execution_count": 5,
     "metadata": {},
     "output_type": "execute_result"
    }
   ],
   "source": [
    "X_train, X_test, y_train, y_test = train_test_split(X, y,\n",
    "                                                    test_size=0.25,\n",
    "                                                    random_state=42)\n",
    "\n",
    "print(X_train.shape, X_test.shape)\n",
    "print(y_train.shape, y_test.shape)\n",
    "X_train, y_train"
   ]
  },
  {
   "cell_type": "markdown",
   "metadata": {
    "deletable": true,
    "editable": true
   },
   "source": [
    "#### Calculate baseline with DummyClassifier\n",
    "\n",
    "DummyClassifier is a classifier that makes predictions using simple rules (most frequent in this case). This classifier is useful as a simple baseline to compare with other (real) classifiers (http://scikit-learn.org/stable/modules/model_evaluation.html#dummy-estimators)"
   ]
  },
  {
   "cell_type": "code",
   "execution_count": 19,
   "metadata": {
    "collapsed": false,
    "deletable": true,
    "editable": true
   },
   "outputs": [
    {
     "name": "stdout",
     "output_type": "stream",
     "text": [
      "mean accuracy: 0.406\n"
     ]
    },
    {
     "data": {
      "image/png": "[encoded data removed]",
      "text/plain": [
       "<matplotlib.figure.Figure at 0x7fe9c4ed35c0>"
      ]
     },
     "metadata": {},
     "output_type": "display_data"
    }
   ],
   "source": [
    "from sklearn.dummy import DummyClassifier\n",
    "\n",
    "dummy = DummyClassifier(strategy='most_frequent',random_state=0)\n",
    "dummy.fit(X_train, y_train)\n",
    "print(\"mean accuracy: {}\".format(dummy.score(X_test, y_test)))\n",
    "plot_matrix(dummy, X_test, y_test)"
   ]
  },
  {
   "cell_type": "markdown",
   "metadata": {
    "deletable": true,
    "editable": true
   },
   "source": [
    "#### Test for Extremely Randomized Trees\n",
    "It essentially consists of randomizing -partial or totally - both attribute and cut-point choice while splitting a tree node. In the extreme case, it builds totally randomized trees whose structures are independent of the output values of the learning sample. The strength of the randomization can be tuned to problem specifics by the appropriate choice of a parameter."
   ]
  },
  {
   "cell_type": "code",
   "execution_count": 7,
   "metadata": {
    "collapsed": false,
    "deletable": true,
    "editable": true
   },
   "outputs": [
    {
     "name": "stdout",
     "output_type": "stream",
     "text": [
      "1 loop, best of 3: 443 ms per loop\n",
      "             precision    recall  f1-score   support\n",
      "\n",
      "          1       0.89      0.89      0.89       189\n",
      "          2       0.71      0.89      0.79        85\n",
      "          3       0.97      0.87      0.91       226\n",
      "\n",
      "avg / total       0.89      0.88      0.88       500\n",
      "\n",
      "Score over Testing Data 0.882\n",
      "Score over Training Data 0.9626666666666667\n"
     ]
    },
    {
     "data": {
      "image/png": "[encoded data removed]",
      "text/plain": [
       "<matplotlib.figure.Figure at 0x7fe9c1130f28>"
      ]
     },
     "metadata": {},
     "output_type": "display_data"
    }
   ],
   "source": [
    "clf = ExtraTreesClassifier(n_estimators=200,\n",
    "                           max_features=0.5, \n",
    "                           n_jobs=2,\n",
    "                           max_depth=10,\n",
    "                           # min_samples_split=1,\n",
    "                           random_state=1)\n",
    "%timeit clf.fit(X_train, y_train)\n",
    "print(classification_report(clf.predict(X_test), y_test))\n",
    "print(\"Score over Testing Data {}\".format(clf.score(X_test, y_test)))\n",
    "print(\"Score over Training Data {}\".format(clf.score(X_train, y_train)))\n",
    "plot_matrix(clf, X_test, y_test)"
   ]
  },
  {
   "cell_type": "markdown",
   "metadata": {},
   "source": [
    "#### Gridsearch for best parameters"
   ]
  },
  {
   "cell_type": "code",
   "execution_count": 77,
   "metadata": {
    "collapsed": false,
    "deletable": true,
    "editable": true
   },
   "outputs": [
    {
     "name": "stdout",
     "output_type": "stream",
     "text": [
      "Fitting 5 folds for each of 12 candidates, totalling 60 fits\n",
      "[CV] max_depth=2, max_features=0.2, n_estimators=100 .................\n",
      "[CV]  max_depth=2, max_features=0.2, n_estimators=100, score=0.695035 -   0.3s\n",
      "[CV] max_depth=2, max_features=0.2, n_estimators=100 .................\n"
     ]
    },
    {
     "name": "stderr",
     "output_type": "stream",
     "text": [
      "[Parallel(n_jobs=1)]: Done   1 out of   1 | elapsed:    0.3s remaining:    0.0s\n"
     ]
    },
    {
     "name": "stdout",
     "output_type": "stream",
     "text": [
      "[CV]  max_depth=2, max_features=0.2, n_estimators=100, score=0.732143 -   0.3s\n",
      "[CV] max_depth=2, max_features=0.2, n_estimators=100 .................\n"
     ]
    },
    {
     "name": "stderr",
     "output_type": "stream",
     "text": [
      "[Parallel(n_jobs=1)]: Done   2 out of   2 | elapsed:    0.6s remaining:    0.0s\n"
     ]
    },
    {
     "name": "stdout",
     "output_type": "stream",
     "text": [
      "[CV]  max_depth=2, max_features=0.2, n_estimators=100, score=0.728571 -   0.3s\n",
      "[CV] max_depth=2, max_features=0.2, n_estimators=100 .................\n",
      "[CV]  max_depth=2, max_features=0.2, n_estimators=100, score=0.727599 -   0.3s\n",
      "[CV] max_depth=2, max_features=0.2, n_estimators=100 .................\n",
      "[CV]  max_depth=2, max_features=0.2, n_estimators=100, score=0.738351 -   0.3s\n",
      "[CV] max_depth=2, max_features=0.2, n_estimators=200 .................\n",
      "[CV]  max_depth=2, max_features=0.2, n_estimators=200, score=0.702128 -   0.5s\n",
      "[CV] max_depth=2, max_features=0.2, n_estimators=200 .................\n",
      "[CV]  max_depth=2, max_features=0.2, n_estimators=200, score=0.714286 -   0.5s\n",
      "[CV] max_depth=2, max_features=0.2, n_estimators=200 .................\n",
      "[CV]  max_depth=2, max_features=0.2, n_estimators=200, score=0.721429 -   0.4s\n",
      "[CV] max_depth=2, max_features=0.2, n_estimators=200 .................\n",
      "[CV]  max_depth=2, max_features=0.2, n_estimators=200, score=0.727599 -   0.4s\n",
      "[CV] max_depth=2, max_features=0.2, n_estimators=200 .................\n",
      "[CV]  max_depth=2, max_features=0.2, n_estimators=200, score=0.731183 -   0.5s\n",
      "[CV] max_depth=2, max_features=0.5, n_estimators=100 .................\n",
      "[CV]  max_depth=2, max_features=0.5, n_estimators=100, score=0.734043 -   0.3s\n",
      "[CV] max_depth=2, max_features=0.5, n_estimators=100 .................\n",
      "[CV]  max_depth=2, max_features=0.5, n_estimators=100, score=0.739286 -   0.3s\n",
      "[CV] max_depth=2, max_features=0.5, n_estimators=100 .................\n",
      "[CV]  max_depth=2, max_features=0.5, n_estimators=100, score=0.746429 -   0.3s\n",
      "[CV] max_depth=2, max_features=0.5, n_estimators=100 .................\n",
      "[CV]  max_depth=2, max_features=0.5, n_estimators=100, score=0.738351 -   0.4s\n",
      "[CV] max_depth=2, max_features=0.5, n_estimators=100 .................\n",
      "[CV]  max_depth=2, max_features=0.5, n_estimators=100, score=0.784946 -   0.3s\n",
      "[CV] max_depth=2, max_features=0.5, n_estimators=200 .................\n",
      "[CV]  max_depth=2, max_features=0.5, n_estimators=200, score=0.730496 -   0.4s\n",
      "[CV] max_depth=2, max_features=0.5, n_estimators=200 .................\n",
      "[CV]  max_depth=2, max_features=0.5, n_estimators=200, score=0.735714 -   0.4s\n",
      "[CV] max_depth=2, max_features=0.5, n_estimators=200 .................\n",
      "[CV]  max_depth=2, max_features=0.5, n_estimators=200, score=0.750000 -   0.5s\n",
      "[CV] max_depth=2, max_features=0.5, n_estimators=200 .................\n",
      "[CV]  max_depth=2, max_features=0.5, n_estimators=200, score=0.731183 -   0.4s\n",
      "[CV] max_depth=2, max_features=0.5, n_estimators=200 .................\n",
      "[CV]  max_depth=2, max_features=0.5, n_estimators=200, score=0.770609 -   0.4s\n",
      "[CV] max_depth=5, max_features=0.2, n_estimators=100 .................\n",
      "[CV]  max_depth=5, max_features=0.2, n_estimators=100, score=0.758865 -   0.3s\n",
      "[CV] max_depth=5, max_features=0.2, n_estimators=100 .................\n",
      "[CV]  max_depth=5, max_features=0.2, n_estimators=100, score=0.792857 -   0.3s\n",
      "[CV] max_depth=5, max_features=0.2, n_estimators=100 .................\n",
      "[CV]  max_depth=5, max_features=0.2, n_estimators=100, score=0.810714 -   0.3s\n",
      "[CV] max_depth=5, max_features=0.2, n_estimators=100 .................\n",
      "[CV]  max_depth=5, max_features=0.2, n_estimators=100, score=0.784946 -   0.3s\n",
      "[CV] max_depth=5, max_features=0.2, n_estimators=100 .................\n",
      "[CV]  max_depth=5, max_features=0.2, n_estimators=100, score=0.810036 -   0.3s\n",
      "[CV] max_depth=5, max_features=0.2, n_estimators=200 .................\n",
      "[CV]  max_depth=5, max_features=0.2, n_estimators=200, score=0.765957 -   0.4s\n",
      "[CV] max_depth=5, max_features=0.2, n_estimators=200 .................\n",
      "[CV]  max_depth=5, max_features=0.2, n_estimators=200, score=0.785714 -   0.4s\n",
      "[CV] max_depth=5, max_features=0.2, n_estimators=200 .................\n",
      "[CV]  max_depth=5, max_features=0.2, n_estimators=200, score=0.810714 -   0.4s\n",
      "[CV] max_depth=5, max_features=0.2, n_estimators=200 .................\n",
      "[CV]  max_depth=5, max_features=0.2, n_estimators=200, score=0.774194 -   0.4s\n",
      "[CV] max_depth=5, max_features=0.2, n_estimators=200 .................\n",
      "[CV]  max_depth=5, max_features=0.2, n_estimators=200, score=0.806452 -   0.5s\n",
      "[CV] max_depth=5, max_features=0.5, n_estimators=100 .................\n",
      "[CV]  max_depth=5, max_features=0.5, n_estimators=100, score=0.783688 -   0.3s\n",
      "[CV] max_depth=5, max_features=0.5, n_estimators=100 .................\n",
      "[CV]  max_depth=5, max_features=0.5, n_estimators=100, score=0.803571 -   0.3s\n",
      "[CV] max_depth=5, max_features=0.5, n_estimators=100 .................\n",
      "[CV]  max_depth=5, max_features=0.5, n_estimators=100, score=0.842857 -   0.3s\n",
      "[CV] max_depth=5, max_features=0.5, n_estimators=100 .................\n",
      "[CV]  max_depth=5, max_features=0.5, n_estimators=100, score=0.810036 -   0.3s\n",
      "[CV] max_depth=5, max_features=0.5, n_estimators=100 .................\n",
      "[CV]  max_depth=5, max_features=0.5, n_estimators=100, score=0.842294 -   0.3s\n",
      "[CV] max_depth=5, max_features=0.5, n_estimators=200 .................\n",
      "[CV]  max_depth=5, max_features=0.5, n_estimators=200, score=0.780142 -   0.4s\n",
      "[CV] max_depth=5, max_features=0.5, n_estimators=200 .................\n",
      "[CV]  max_depth=5, max_features=0.5, n_estimators=200, score=0.828571 -   0.4s\n",
      "[CV] max_depth=5, max_features=0.5, n_estimators=200 .................\n",
      "[CV]  max_depth=5, max_features=0.5, n_estimators=200, score=0.835714 -   0.4s\n",
      "[CV] max_depth=5, max_features=0.5, n_estimators=200 .................\n",
      "[CV]  max_depth=5, max_features=0.5, n_estimators=200, score=0.813620 -   0.5s\n",
      "[CV] max_depth=5, max_features=0.5, n_estimators=200 .................\n",
      "[CV]  max_depth=5, max_features=0.5, n_estimators=200, score=0.835125 -   0.5s\n",
      "[CV] max_depth=10, max_features=0.2, n_estimators=100 ................\n",
      "[CV]  max_depth=10, max_features=0.2, n_estimators=100, score=0.829787 -   0.3s\n",
      "[CV] max_depth=10, max_features=0.2, n_estimators=100 ................\n",
      "[CV]  max_depth=10, max_features=0.2, n_estimators=100, score=0.853571 -   0.3s\n",
      "[CV] max_depth=10, max_features=0.2, n_estimators=100 ................\n",
      "[CV]  max_depth=10, max_features=0.2, n_estimators=100, score=0.878571 -   0.3s\n",
      "[CV] max_depth=10, max_features=0.2, n_estimators=100 ................\n",
      "[CV]  max_depth=10, max_features=0.2, n_estimators=100, score=0.849462 -   0.3s\n",
      "[CV] max_depth=10, max_features=0.2, n_estimators=100 ................\n",
      "[CV]  max_depth=10, max_features=0.2, n_estimators=100, score=0.870968 -   0.3s\n",
      "[CV] max_depth=10, max_features=0.2, n_estimators=200 ................\n",
      "[CV]  max_depth=10, max_features=0.2, n_estimators=200, score=0.833333 -   0.5s\n",
      "[CV] max_depth=10, max_features=0.2, n_estimators=200 ................\n",
      "[CV]  max_depth=10, max_features=0.2, n_estimators=200, score=0.853571 -   0.4s\n",
      "[CV] max_depth=10, max_features=0.2, n_estimators=200 ................\n",
      "[CV]  max_depth=10, max_features=0.2, n_estimators=200, score=0.878571 -   0.5s\n",
      "[CV] max_depth=10, max_features=0.2, n_estimators=200 ................\n",
      "[CV]  max_depth=10, max_features=0.2, n_estimators=200, score=0.860215 -   0.6s\n",
      "[CV] max_depth=10, max_features=0.2, n_estimators=200 ................\n",
      "[CV]  max_depth=10, max_features=0.2, n_estimators=200, score=0.867384 -   0.5s\n",
      "[CV] max_depth=10, max_features=0.5, n_estimators=100 ................\n",
      "[CV]  max_depth=10, max_features=0.5, n_estimators=100, score=0.843972 -   0.3s\n",
      "[CV] max_depth=10, max_features=0.5, n_estimators=100 ................\n",
      "[CV]  max_depth=10, max_features=0.5, n_estimators=100, score=0.853571 -   0.3s\n",
      "[CV] max_depth=10, max_features=0.5, n_estimators=100 ................\n",
      "[CV]  max_depth=10, max_features=0.5, n_estimators=100, score=0.885714 -   0.3s\n",
      "[CV] max_depth=10, max_features=0.5, n_estimators=100 ................\n",
      "[CV]  max_depth=10, max_features=0.5, n_estimators=100, score=0.860215 -   0.3s\n",
      "[CV] max_depth=10, max_features=0.5, n_estimators=100 ................\n",
      "[CV]  max_depth=10, max_features=0.5, n_estimators=100, score=0.874552 -   0.4s\n",
      "[CV] max_depth=10, max_features=0.5, n_estimators=200 ................\n",
      "[CV]  max_depth=10, max_features=0.5, n_estimators=200, score=0.851064 -   0.4s\n",
      "[CV] max_depth=10, max_features=0.5, n_estimators=200 ................\n",
      "[CV]  max_depth=10, max_features=0.5, n_estimators=200, score=0.864286 -   0.6s\n",
      "[CV] max_depth=10, max_features=0.5, n_estimators=200 ................\n",
      "[CV]  max_depth=10, max_features=0.5, n_estimators=200, score=0.882143 -   0.4s\n",
      "[CV] max_depth=10, max_features=0.5, n_estimators=200 ................\n",
      "[CV]  max_depth=10, max_features=0.5, n_estimators=200, score=0.853047 -   0.6s\n",
      "[CV] max_depth=10, max_features=0.5, n_estimators=200 ................\n",
      "[CV]  max_depth=10, max_features=0.5, n_estimators=200, score=0.874552 -   0.6s\n"
     ]
    },
    {
     "name": "stderr",
     "output_type": "stream",
     "text": [
      "[Parallel(n_jobs=1)]: Done  60 out of  60 | elapsed:   22.8s finished\n"
     ]
    },
    {
     "data": {
      "text/plain": [
       "{'max_depth': 10, 'max_features': 0.5, 'n_estimators': 200}"
      ]
     },
     "execution_count": 77,
     "metadata": {},
     "output_type": "execute_result"
    }
   ],
   "source": [
    "from sklearn.grid_search import GridSearchCV\n",
    "\n",
    "parameter_grid = {\n",
    "    'n_estimators': [100, 200],\n",
    "    'max_features': [0.2, 0.5],\n",
    "    'max_depth': [2, 5, 10]\n",
    "}\n",
    "\n",
    "grid_search = GridSearchCV(ExtraTreesClassifier(n_jobs=4), parameter_grid, cv=5, verbose=3)\n",
    "grid_search.fit(X_train, y_train)\n",
    "grid_search.best_params_"
   ]
  },
  {
   "cell_type": "markdown",
   "metadata": {},
   "source": [
    "#### Crossvalidation over 10 iterations with a test size of 25% of the sample"
   ]
  },
  {
   "cell_type": "code",
   "execution_count": 20,
   "metadata": {
    "collapsed": false,
    "deletable": true,
    "editable": true
   },
   "outputs": [
    {
     "name": "stdout",
     "output_type": "stream",
     "text": [
      "**** ERT ****\n",
      "scores: [0.866 0.856 0.856 0.864 0.842 0.87  0.854 0.882 0.84  0.868]\n",
      " mean: 0.8598000000000001\n",
      " std: 0.01221310771261763\n",
      "**** SVM-rbf ****\n",
      "scores: [0.406 0.41  0.41  0.366 0.428 0.4   0.4   0.372 0.386 0.444]\n",
      " mean: 0.4022\n",
      " std: 0.02245796072665548\n",
      "**** Dummy ****\n",
      "scores: [0.396 0.398 0.4   0.356 0.418 0.394 0.38  0.366 0.37  0.428]\n",
      " mean: 0.3906\n",
      " std: 0.02161573500947863\n"
     ]
    }
   ],
   "source": [
    "from sklearn.cross_validation import cross_val_score, ShuffleSplit\n",
    "\n",
    "cv = ShuffleSplit(X.shape[0], n_iter=10, test_size=0.25, random_state=0)\n",
    "\n",
    "for name, classifier in zip(['ERT', 'SVM-rbf', 'Dummy'], [clf, sv, dummy]):\n",
    "    test_scores = cross_val_score(classifier, X, y, cv=cv, n_jobs=4)\n",
    "    print('*'*4, name, '*'*4)\n",
    "    print(\"scores: {}\\n mean: {}\\n std: {}\".format(str(test_scores),\n",
    "                                             np.mean(test_scores), np.std(test_scores)))"
   ]
  },
  {
   "cell_type": "code",
   "execution_count": 15,
   "metadata": {
    "collapsed": false,
    "deletable": true,
    "editable": true
   },
   "outputs": [
    {
     "name": "stdout",
     "output_type": "stream",
     "text": [
      "1 loop, best of 3: 925 ms per loop\n",
      "             precision    recall  f1-score   support\n",
      "\n",
      "          1       0.02      1.00      0.04         4\n",
      "          2       0.00      0.00      0.00         0\n",
      "          3       1.00      0.41      0.58       496\n",
      "\n",
      "avg / total       0.99      0.41      0.58       500\n",
      "\n",
      "Score over Testing Data 0.414\n",
      "Score over Training Data 1.0\n"
     ]
    },
    {
     "name": "stderr",
     "output_type": "stream",
     "text": [
      "/usr/lib/python3.6/site-packages/sklearn/metrics/classification.py:1137: UndefinedMetricWarning: Recall and F-score are ill-defined and being set to 0.0 in labels with no true samples.\n",
      "  'recall', 'true', average, warn_for)\n"
     ]
    },
    {
     "data": {
      "image/png": "[encoded data removed]",
      "text/plain": [
       "<matplotlib.figure.Figure at 0x7fe9c3459e10>"
      ]
     },
     "metadata": {},
     "output_type": "display_data"
    }
   ],
   "source": [
    "from sklearn.svm import SVC\n",
    "\n",
    "sv = SVC(kernel='rbf', cache_size=6000, probability=True)\n",
    "%timeit sv.fit(X_train, y_train)\n",
    "print(classification_report(sv.predict(X_test), y_test))\n",
    "print(\"Score over Testing Data {}\".format(sv.score(X_test, y_test)))\n",
    "print(\"Score over Training Data {}\".format(sv.score(X_train, y_train)))\n",
    "plot_matrix(sv, X_test, y_test)"
   ]
  },
  {
   "cell_type": "code",
   "execution_count": null,
   "metadata": {
    "collapsed": true,
    "deletable": true,
    "editable": true
   },
   "outputs": [],
   "source": []
  }
 ],
 "metadata": {
  "kernelspec": {
   "display_name": "Python 3",
   "language": "python",
   "name": "python3"
  },
  "language_info": {
   "codemirror_mode": {
    "name": "ipython",
    "version": 3
   },
   "file_extension": ".py",
   "mimetype": "text/x-python",
   "name": "python",
   "nbconvert_exporter": "python",
   "pygments_lexer": "ipython3",
   "version": "3.6.0"
  }
 },
 "nbformat": 4,
 "nbformat_minor": 2
}

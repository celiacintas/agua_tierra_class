{
 "cells": [
  {
   "cell_type": "markdown",
   "metadata": {
    "deletable": true,
    "editable": true
   },
   "source": [
    "### Regression for altitude values"
   ]
  },
  {
   "cell_type": "code",
   "execution_count": 16,
   "metadata": {
    "collapsed": true,
    "deletable": true,
    "editable": true
   },
   "outputs": [],
   "source": [
    "import pandas as pd\n",
    "import numpy as np"
   ]
  },
  {
   "cell_type": "markdown",
   "metadata": {},
   "source": [
    "##### Load data from xls files\n",
    "Return *X* values of shape (100, 11) and *y* shape (100, 1).\n",
    "*X* correspond to 11 bands (700, 705, 710, 725, 740, 750, 820, 840, 870, 876, 892) of 100 samples (all transects).\n",
    "\n",
    "*y* correspond to altitude of the samples.\n"
   ]
  },
  {
   "cell_type": "code",
   "execution_count": 354,
   "metadata": {
    "collapsed": false,
    "deletable": true,
    "editable": true
   },
   "outputs": [],
   "source": [
    "def load_data(filename=\"data/data_x01.xlsx\"):\n",
    "    transectas = ['transecta_F', 'transecta_E', 'transecta_B', 'transecta_C', 'transecta_D']\n",
    "    appended_df = pd.DataFrame(columns=[])\n",
    "    for transecta in transectas:\n",
    "        df = pd.read_excel(filename, sheetname=transecta)\n",
    "        df = df.iloc[1:]\n",
    "        df = df.transpose()\n",
    "        df.columns = df.iloc[0]\n",
    "        df = df.iloc[1:]\n",
    "        df = df.dropna(axis=1)\n",
    "        # print(df.columns)\n",
    "        df2 = df.copy()\n",
    "        appended_df = appended_df.append([df2])\n",
    "\n",
    "    appended_df.columns.name = 'Puntos'\n",
    "    # print(appended_df)\n",
    "    y = appended_df.iloc[:, -1].values\n",
    "    X = appended_df.iloc[:, :-1].values\n",
    "    \n",
    "    return X, y "
   ]
  },
  {
   "cell_type": "code",
   "execution_count": 397,
   "metadata": {
    "collapsed": false,
    "deletable": true,
    "editable": true
   },
   "outputs": [
    {
     "name": "stdout",
     "output_type": "stream",
     "text": [
      "[[12692.0 13385.0 13865.0 ... 14611.0 14063.0 14391.0]\n",
      " [11598.0 12544.0 12551.0 ... 8576.0 7523.0 7200.0]\n",
      " [11235.0 11637.0 11905.0 ... 5902.0 5511.0 5463.0]\n",
      " ...\n",
      " [9878.0 10032.0 10401.0 ... 4777.0 4581.0 4425.0]\n",
      " [11518.0 12099.0 12500.0 ... 7385.0 6733.0 6741.0]\n",
      " [11066.0 11854.0 12037.0 ... 5861.0 5515.0 5247.0]] [4.51344 4.51344 4.34834 4.18328 4.18328 4.01821 3.85315 3.85315 3.68809\n",
      " 3.52309 3.35802 3.35802 3.19296 3.0279 2.86284 2.69777 2.69777 2.45919\n",
      " 4.34834 2.29412 4.51344 4.34831 4.34831 4.18319 4.18319 4.01806 4.01806\n",
      " 3.85298 3.68792 3.52285 3.52285 3.35779 3.19279 3.02772 2.86266 2.86266\n",
      " 2.6976 2.53254 2.43784 2.28407 4.11813 3.953 3.78788 3.49438 3.24886\n",
      " 3.15723 3.06561 2.88236 2.79073 2.6558 2.56417 3.62275 2.542 3.34048\n",
      " 2.542 2.542 2.542 3.15723 2.97398 3.953 4.41469 4.41469 4.24957 3.93055\n",
      " 3.93055 3.71055 3.61892 3.0223 2.69217 2.36205 3.80217 3.71055 3.5273\n",
      " 3.43567 3.27281 2.85723 2.52711 2.52711 2.35577 2.35577 4.55674 4.55674\n",
      " 3.8593 3.8593 3.69423 3.52917 3.52917 3.44372 3.27865 3.15723 3.15723\n",
      " 3.06561 3.69423 2.97398 2.88236 2.79073 2.52711 2.36205 4.54613 3.8593]\n"
     ]
    }
   ],
   "source": [
    "X, y = load_data(\"data/data_x3.xlsx\")\n",
    "assert X.shape == (100, 11) and y.shape == (100,)\n",
    "print(X, y)"
   ]
  },
  {
   "cell_type": "markdown",
   "metadata": {},
   "source": [
    "##### Run metrics for all the neighborhoods's sizes\n",
    "Default 3-fold cross validation using $r^2$ (mean and std)"
   ]
  },
  {
   "cell_type": "code",
   "execution_count": 352,
   "metadata": {
    "collapsed": true
   },
   "outputs": [],
   "source": [
    "neighborhoods = [\"data_x01.xlsx\", \"data_x3.xlsx\", \"data_x5.xlsx\", \"data_x7.xlsx\"]"
   ]
  },
  {
   "cell_type": "markdown",
   "metadata": {},
   "source": [
    "An extremely randomized tree regressor.\n",
    "Extra-trees differ from classic decision trees in the way they are built. When looking for the best split to separate the samples of a node into two groups, random splits are drawn for each of the max_features randomly selected features and the best split among those is chosen.(http://scikit-learn.org/stable/modules/generated/sklearn.tree.ExtraTreeRegressor.html#sklearn.tree.ExtraTreeRegressor)"
   ]
  },
  {
   "cell_type": "code",
   "execution_count": 367,
   "metadata": {
    "collapsed": false
   },
   "outputs": [
    {
     "name": "stdout",
     "output_type": "stream",
     "text": [
      "Accuracy for data data_x01.xlsx: 0.67 (+/- 0.27)\n",
      "Accuracy for data data_x3.xlsx: 0.82 (+/- 0.04)\n",
      "Accuracy for data data_x5.xlsx: 0.80 (+/- 0.05)\n",
      "Accuracy for data data_x7.xlsx: 0.82 (+/- 0.02)\n"
     ]
    }
   ],
   "source": [
    "from sklearn.model_selection import cross_val_score\n",
    "\n",
    "for n in neighborhoods:\n",
    "    X, y = load_data('data/' + n)\n",
    "    reg_tree = ExtraTreesRegressor()\n",
    "    scores = cross_val_score(reg_tree, X, y, cv=3)\n",
    "    print(\"Accuracy for data %s: %0.2f (+/- %0.2f)\" % (n, scores.mean(), scores.std() * 2))"
   ]
  },
  {
   "cell_type": "code",
   "execution_count": 375,
   "metadata": {
    "collapsed": false
   },
   "outputs": [],
   "source": [
    "def plot_importances(reg_tree):\n",
    "    importances = reg_tree.feature_importances_\n",
    "    # std = np.std([tree.feature_importances_ for tree in reg_tree.estimators_],\n",
    "    #         axis=0)\n",
    "    indices = np.argsort(importances)[::-1]\n",
    "    print(\"Feature ranking:\")\n",
    "    for f in range(X.shape[1]):\n",
    "        print(\"%d. feature %d (%f)\" % (f + 1, indices[f], importances[indices[f]]))\n",
    "\n",
    "    # Plot the feature importances of the forest\n",
    "    fig = plt.figure()\n",
    "    plt.title(\"Feature importances\")\n",
    "    plt.bar(range(X.shape[1]), importances[indices],\n",
    "           color=\"r\", align=\"center\")\n",
    "    plt.xticks(range(X.shape[1]), indices)\n",
    "    plt.xlim([-1, X.shape[1]])\n",
    "    \n",
    "    return fig"
   ]
  },
  {
   "cell_type": "code",
   "execution_count": 376,
   "metadata": {
    "collapsed": false,
    "deletable": true,
    "editable": true
   },
   "outputs": [
    {
     "name": "stdout",
     "output_type": "stream",
     "text": [
      "ExtraTreesRegressor(bootstrap=False, criterion='mse', max_depth=None,\n",
      "          max_features='auto', max_leaf_nodes=None,\n",
      "          min_impurity_decrease=0.0, min_impurity_split=None,\n",
      "          min_samples_leaf=1, min_samples_split=2,\n",
      "          min_weight_fraction_leaf=0.0, n_estimators=10, n_jobs=1,\n",
      "          oob_score=False, random_state=None, verbose=0, warm_start=False)\n",
      "Feature ranking:\n",
      "1. feature 1 (0.319288)\n",
      "2. feature 2 (0.175631)\n",
      "3. feature 10 (0.093800)\n",
      "4. feature 5 (0.090551)\n",
      "5. feature 3 (0.068868)\n",
      "6. feature 0 (0.058331)\n",
      "7. feature 7 (0.051780)\n",
      "8. feature 9 (0.050946)\n",
      "9. feature 4 (0.041794)\n",
      "10. feature 6 (0.027789)\n",
      "11. feature 8 (0.021223)\n"
     ]
    },
    {
     "data": {
      "image/png": "[encoded data removed]",
      "text/plain": [
       "<matplotlib.figure.Figure at 0x7fe1778647b8>"
      ]
     },
     "metadata": {},
     "output_type": "display_data"
    },
    {
     "data": {
      "text/plain": [
       "0.8032820926679116"
      ]
     },
     "execution_count": 376,
     "metadata": {},
     "output_type": "execute_result"
    }
   ],
   "source": [
    "from sklearn.metrics import r2_score, mean_squared_error\n",
    "from sklearn.cross_validation import train_test_split\n",
    "from sklearn.ensemble import ExtraTreesRegressor\n",
    "\n",
    "X, y = load_data('data/data_x3.xlsx')\n",
    "reg_tree = ExtraTreesRegressor()\n",
    "X_train, X_test, y_train, y_test = train_test_split(X, y, test_size=0.2, random_state=42)\n",
    "print(reg_tree.fit(X_train, y_train))\n",
    "plot_importances(reg_tree)\n",
    "plt.show()\n",
    "r2_score(y_test, reg_tree.predict(X_test))"
   ]
  },
  {
   "cell_type": "markdown",
   "metadata": {},
   "source": [
    "### SVR\n",
    "\n",
    "Epsilon-Support Vector Regression using kernel rbf (http://scikit-learn.org/stable/modules/svm.html#svm-regression)"
   ]
  },
  {
   "cell_type": "code",
   "execution_count": 380,
   "metadata": {
    "collapsed": false
   },
   "outputs": [
    {
     "name": "stdout",
     "output_type": "stream",
     "text": [
      "Accuracy for data data_x01.xlsx: -0.22 (+/- 0.31)\n",
      "Accuracy for data data_x3.xlsx: -0.22 (+/- 0.30)\n",
      "Accuracy for data data_x5.xlsx: -0.22 (+/- 0.31)\n",
      "Accuracy for data data_x7.xlsx: -0.22 (+/- 0.31)\n"
     ]
    }
   ],
   "source": [
    "import time\n",
    "from sklearn.svm import SVR\n",
    "\n",
    "for n in neighborhoods:\n",
    "    X, y = load_data('data/' + n)\n",
    "    svr = SVR(kernel='rbf', C=1e3, gamma=0.1)\n",
    "    scores = cross_val_score(svr, X, y, cv=3)\n",
    "    print(\"Accuracy for data %s: %0.2f (+/- %0.2f)\" % (n, scores.mean(), scores.std() * 2))"
   ]
  },
  {
   "cell_type": "markdown",
   "metadata": {},
   "source": [
    "##### Multiple Linear Regression\n",
    "$\\hat{y}$ is the predicted value:\n",
    "\n",
    "$\\hat{y}(w, x) = w_0 + w_1 x_1 + ... + w_p x_p$\n",
    "\n",
    "the vector $w = (w_1,\\cdots, w_p)$ as *coef_* and $w_0$ as *intercept_*\n",
    "\n",
    "from the docs (http://scikit-learn.org/stable/modules/linear_model.html)"
   ]
  },
  {
   "cell_type": "code",
   "execution_count": 399,
   "metadata": {
    "collapsed": false
   },
   "outputs": [
    {
     "name": "stdout",
     "output_type": "stream",
     "text": [
      "Accuracy for data data_x01.xlsx: 0.49 (+/- 0.37)\n",
      "Accuracy for data data_x3.xlsx: 0.25 (+/- 0.30)\n",
      "Accuracy for data data_x5.xlsx: -0.01 (+/- 0.22)\n",
      "Accuracy for data data_x7.xlsx: 0.06 (+/- 0.71)\n"
     ]
    }
   ],
   "source": [
    "for n in neighborhoods:\n",
    "    X, y = load_data('data/' + n)\n",
    "    reg = linear_model.LinearRegression(fit_intercept=True)\n",
    "    scores = cross_val_score(reg, X, y, cv=3)\n",
    "    print(\"Accuracy for data %s: %0.2f (+/- %0.2f)\" % (n, scores.mean(), scores.std() * 2))"
   ]
  },
  {
   "cell_type": "markdown",
   "metadata": {},
   "source": [
    "##### TheilSenRegressor\n",
    "Theil-Sen Estimator: robust multivariate regression model.\n",
    "The algorithm calculates least square solutions on subsets with size n_subsamples of the samples in X. Any value of n_subsamples between the number of features and samples leads to an estimator with a compromise between robustness and efficiency. Since the number of least square solutions is “n_samples choose n_subsamples”, it can be extremely large and can therefore be limited with max_subpopulation. If this limit is reached, the subsets are chosen randomly. In a final step, the spatial median (or L1 median) is calculated of all least square solutions. (http://scikit-learn.org/stable/auto_examples/linear_model/plot_theilsen.html#sphx-glr-auto-examples-linear-model-plot-theilsen-py)\n"
   ]
  },
  {
   "cell_type": "code",
   "execution_count": 401,
   "metadata": {
    "collapsed": false
   },
   "outputs": [
    {
     "name": "stdout",
     "output_type": "stream",
     "text": [
      "Accuracy for data data_x01.xlsx: 0.43 (+/- 0.56)\n",
      "Accuracy for data data_x3.xlsx: -0.56 (+/- 0.83)\n",
      "Accuracy for data data_x5.xlsx: -1.35 (+/- 2.65)\n",
      "Accuracy for data data_x7.xlsx: -1.12 (+/- 1.11)\n"
     ]
    }
   ],
   "source": [
    "from sklearn.linear_model import TheilSenRegressor\n",
    "\n",
    "for n in neighborhoods:\n",
    "    X, y = load_data('data/' + n)\n",
    "    tsr = TheilSenRegressor(random_state=42)\n",
    "    scores = cross_val_score(tsr, X, y, cv=3)\n",
    "    print(\"Accuracy for data %s: %0.2f (+/- %0.2f)\" % (n, scores.mean(), scores.std() * 2))\n"
   ]
  },
  {
   "cell_type": "markdown",
   "metadata": {},
   "source": [
    "##### Lasso\n",
    "\n",
    "The Lasso is a linear model that estimates sparse coefficients. It is useful in some contexts due to its tendency to prefer solutions with fewer parameter values, effectively reducing the number of variables upon which the given solution is dependent. (http://scikit-learn.org/stable/auto_examples/applications/plot_tomography_l1_reconstruction.html#sphx-glr-auto-examples-applications-plot-tomography-l1-reconstruction-py)\n"
   ]
  },
  {
   "cell_type": "code",
   "execution_count": 403,
   "metadata": {
    "collapsed": false
   },
   "outputs": [
    {
     "name": "stdout",
     "output_type": "stream",
     "text": [
      "Accuracy for data data_x01.xlsx: 0.56 (+/- 0.27)\n",
      "Accuracy for data data_x3.xlsx: 0.53 (+/- 0.23)\n",
      "Accuracy for data data_x5.xlsx: 0.42 (+/- 0.16)\n",
      "Accuracy for data data_x7.xlsx: 0.48 (+/- 0.32)\n"
     ]
    }
   ],
   "source": [
    "from sklearn.linear_model import Lasso\n",
    "\n",
    "for n in neighborhoods:\n",
    "    X, y = load_data('data/' + n)\n",
    "    lasso = Lasso(alpha=10.)\n",
    "    scores = cross_val_score(lasso, X, y, cv=3)\n",
    "    print(\"Accuracy for data %s: %0.2f (+/- %0.2f)\" % (n, scores.mean(), scores.std() * 2))"
   ]
  }
 ],
 "metadata": {
  "kernelspec": {
   "display_name": "Python 3",
   "language": "python",
   "name": "python3"
  },
  "language_info": {
   "codemirror_mode": {
    "name": "ipython",
    "version": 3
   },
   "file_extension": ".py",
   "mimetype": "text/x-python",
   "name": "python",
   "nbconvert_exporter": "python",
   "pygments_lexer": "ipython3",
   "version": "3.6.0"
  }
 },
 "nbformat": 4,
 "nbformat_minor": 2
}
